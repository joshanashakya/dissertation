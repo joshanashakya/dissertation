{
 "cells": [
  {
   "cell_type": "code",
   "execution_count": null,
   "id": "ff2760a0",
   "metadata": {},
   "outputs": [],
   "source": [
    "import csv\n",
    "import matplotlib.pyplot as plt"
   ]
  },
  {
   "cell_type": "code",
   "execution_count": null,
   "id": "2183f368",
   "metadata": {},
   "outputs": [],
   "source": [
    "%matplotlib inline"
   ]
  },
  {
   "cell_type": "code",
   "execution_count": null,
   "id": "45f2eb72",
   "metadata": {},
   "outputs": [],
   "source": [
    "# transformer_filepath = \"../models/kaggle/transformer/5e-05/sourcecode_nmt_pn2ja_10000C_50E_5e-05LR_gelu.csv\"\n",
    "# codebert_filepath = \"../models/kaggle/codebert/5e-05/codebert_sourcecode_nmt_pn2ja_50E_5e-05LR.csv\"\n",
    "# mini_codebert_filepath = \"../models/kaggle/mini_codebert/5e-05/mini_codebert_sourcecode_nmt_pn2ja_50E_5e-05LR.csv\"\n",
    "\n",
    "filepath1 = \"../models/transformer/2e-05/12E_12D/sourcecode_nmt_pn2ja_10000C_100E_2e-05LR_gelu_16B_12E_12D.csv\"\n",
    "# filepath2 = \"../models/transformer/2e-05/12E_12D/sourcecode_nmt_pn2ja_10000C_100E_2e-05LR_gelu_16B_12E_12D.csv\"\n",
    "# filepath1 = \"../models/codebert/2e-05/6E_6D/codebert_sourcecode_nmt_pn2ja_100E_2e-05LR_16B_6E_6D.csv\"\n",
    "filepath2 = \"../models/codebert/2e-05/12E_12D/codebert_sourcecode_nmt_pn2ja_100E_2e-05LR_16B_12E_12D.csv\"\n",
    "\n",
    "\n",
    "VIS_FILEPATH = \"visualization/transformer_vs_codebert_pn2ja_100E_12E_12D.png\"\n",
    "# VIS_FILEPATH = \"visualization/codebert_pn2ja_100E_6E_6D_vs_12E_12D.png\"\n",
    "# VIS_FILEPATH = \"visualization/ja2pn_50E_5e-05LR_gelu.png\"\n",
    "# VIS_FILEPATH = \"visualization/ja2pn_100E_5e-05LR_gelu.png\""
   ]
  },
  {
   "cell_type": "code",
   "execution_count": null,
   "id": "7e950da7",
   "metadata": {},
   "outputs": [],
   "source": [
    "def check(file):\n",
    "    try:\n",
    "        with open(file, \"r\") as f:\n",
    "            print(\"File found!!!\", file)\n",
    "            return False\n",
    "    except:\n",
    "        print(\"No file found!!!\", file)\n",
    "        return True"
   ]
  },
  {
   "cell_type": "code",
   "execution_count": null,
   "id": "31fb3e1e",
   "metadata": {},
   "outputs": [],
   "source": [
    "check(VIS_FILEPATH)"
   ]
  },
  {
   "cell_type": "code",
   "execution_count": null,
   "id": "e5ad8f9c",
   "metadata": {},
   "outputs": [],
   "source": [
    "def read_csv(filepath):\n",
    "    rows = []\n",
    "    with open(filepath, \"r\") as file:\n",
    "        csvreader = csv.reader(file)\n",
    "        fields = next(csvreader)\n",
    "\n",
    "        for row in csvreader:\n",
    "            rows.append(row)\n",
    "    return rows"
   ]
  },
  {
   "cell_type": "code",
   "execution_count": null,
   "id": "98bbae07",
   "metadata": {},
   "outputs": [],
   "source": [
    "def read_data(filepath):\n",
    "    rows = read_csv(filepath)\n",
    "    dic = {\"epoch\": [],\n",
    "            \"train_loss\": []}\n",
    "    for row in rows:\n",
    "        dic[\"epoch\"].append(int(float(row[0])))\n",
    "        dic[\"train_loss\"].append(float(row[1]))\n",
    "    return dic\n"
   ]
  },
  {
   "cell_type": "code",
   "execution_count": null,
   "id": "d9f250e0",
   "metadata": {},
   "outputs": [],
   "source": [
    "log1 = read_data(filepath1)\n",
    "# mini_codebert_log = read_data(mini_codebert_filepath)\n",
    "log2 = read_data(filepath2)"
   ]
  },
  {
   "cell_type": "code",
   "execution_count": null,
   "id": "1c575a06",
   "metadata": {},
   "outputs": [],
   "source": [
    "print(\"log1\", log1[\"train_loss\"][-1])\n",
    "print(\"log2\", log2[\"train_loss\"][-1])"
   ]
  },
  {
   "cell_type": "code",
   "execution_count": null,
   "id": "3a7d9dec",
   "metadata": {},
   "outputs": [],
   "source": [
    "import numpy as np\n",
    "plt.rcParams[\"font.family\"] = \"Times New Roman\"\n",
    "plt.rcParams[\"font.size\"] = 12\n",
    "# plt.rcParams[\"figure.figsize\"] = (8,4.8)\n",
    "plt.plot(log1[\"epoch\"], log1[\"train_loss\"], \"k\", label = \"Transformer\", linewidth = 0.8)\n",
    "# plt.plot(mini_codebert_log[\"epoch\"], mini_codebert_log[\"train_loss\"], \"k4\", label = \"mini-CodeBERT Training Loss\", linewidth = 0.8)\n",
    "plt.plot(log2[\"epoch\"], log2[\"train_loss\"], \"k-.\", label = \"CodeBERT\", linewidth = 0.8)\n",
    "# plt.title(\"Python to Java Translation\")\n",
    "# plt.title(\"Java to Python Translation\")\n",
    "plt.xlabel(\"Epochs\")\n",
    "plt.ylabel(\"Training Loss\")\n",
    "# plt.legend(bbox_to_anchor=(1.02, 1), loc='upper left', borderaxespad=0)\n",
    "plt.legend()\n",
    "plt.savefig(VIS_FILEPATH, bbox_inches=\"tight\")\n",
    "plt.show()"
   ]
  }
 ],
 "metadata": {
  "kernelspec": {
   "display_name": "Python 3 (ipykernel)",
   "language": "python",
   "name": "python3"
  },
  "language_info": {
   "codemirror_mode": {
    "name": "ipython",
    "version": 3
   },
   "file_extension": ".py",
   "mimetype": "text/x-python",
   "name": "python",
   "nbconvert_exporter": "python",
   "pygments_lexer": "ipython3",
   "version": "3.9.12"
  }
 },
 "nbformat": 4,
 "nbformat_minor": 5
}
