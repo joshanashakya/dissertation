{
 "cells": [
  {
   "cell_type": "code",
   "execution_count": null,
   "metadata": {
    "colab": {
     "base_uri": "https://localhost:8080/"
    },
    "executionInfo": {
     "elapsed": 21105,
     "status": "ok",
     "timestamp": 1655872834619,
     "user": {
      "displayName": "joshana shakya",
      "userId": "03824919138905749941"
     },
     "user_tz": -345
    },
    "id": "-iMFCSw9-5Km",
    "outputId": "04e50294-b4e4-4982-c97a-fc662fe8285c"
   },
   "outputs": [],
   "source": [
    "from google.colab import drive\n",
    "drive.mount(\"/content/drive\")"
   ]
  },
  {
   "cell_type": "code",
   "execution_count": null,
   "metadata": {
    "executionInfo": {
     "elapsed": 3479,
     "status": "ok",
     "timestamp": 1655872838089,
     "user": {
      "displayName": "joshana shakya",
      "userId": "03824919138905749941"
     },
     "user_tz": -345
    },
    "id": "3fsusaQWAgtb"
   },
   "outputs": [],
   "source": [
    "import json\n",
    "from torchtext.data.metrics import bleu_score"
   ]
  },
  {
   "cell_type": "code",
   "execution_count": null,
   "metadata": {
    "executionInfo": {
     "elapsed": 684,
     "status": "ok",
     "timestamp": 1655878333754,
     "user": {
      "displayName": "joshana shakya",
      "userId": "03824919138905749941"
     },
     "user_tz": -345
    },
    "id": "Ak4pYNQ-AtGN"
   },
   "outputs": [],
   "source": [
    "OUTPUT_FILEPATH = \"drive/MyDrive/dissertation_workplace/code_translation/codebert_output_files\"\n",
    "# OUTPUT_FILEPATH = \"drive/MyDrive/dissertation_workplace/code_translation/output_files\"\n",
    "MODEL_DIR = \"codebert_sourcecode_nmt_pn2ja_100E_2e-05LR_16B_12E_12D\"\n",
    "\n",
    "OUTPUT_FILEPATH = f\"{OUTPUT_FILEPATH}/{MODEL_DIR}\"\n",
    "\n",
    "SRC_LANGUAGE = \"pn\"\n",
    "TGT_LANGUAGE = \"ja\""
   ]
  },
  {
   "cell_type": "code",
   "execution_count": null,
   "metadata": {
    "executionInfo": {
     "elapsed": 739,
     "status": "ok",
     "timestamp": 1655878335053,
     "user": {
      "displayName": "joshana shakya",
      "userId": "03824919138905749941"
     },
     "user_tz": -345
    },
    "id": "CQH3gCKCAjPJ"
   },
   "outputs": [],
   "source": [
    "# BLEU score calculation\n",
    "json_file = open(f\"{OUTPUT_FILEPATH}/output_translates.json\", \"r\")\n",
    "json_obj = json.load(json_file)\n",
    "json_file.close()\n",
    "data = json_obj[\"output\"]"
   ]
  },
  {
   "cell_type": "code",
   "execution_count": null,
   "metadata": {
    "executionInfo": {
     "elapsed": 4,
     "status": "ok",
     "timestamp": 1655878335053,
     "user": {
      "displayName": "joshana shakya",
      "userId": "03824919138905749941"
     },
     "user_tz": -345
    },
    "id": "RXIgAW5PBBHf"
   },
   "outputs": [],
   "source": [
    "references_corpus = []\n",
    "candidate_corpus = []\n",
    "for d in data:\n",
    "  ref = d[\"ref\"]\n",
    "  hyp = d[\"hyp\"] \n",
    "  ref_tokens = ref.split(\" \") \n",
    "  hyp_tokens = hyp.split(\" \")\n",
    "  references_corpus.append([ref_tokens]) \n",
    "  candidate_corpus.append(hyp_tokens) "
   ]
  },
  {
   "cell_type": "code",
   "execution_count": null,
   "metadata": {
    "colab": {
     "base_uri": "https://localhost:8080/"
    },
    "executionInfo": {
     "elapsed": 2029,
     "status": "ok",
     "timestamp": 1655878337079,
     "user": {
      "displayName": "joshana shakya",
      "userId": "03824919138905749941"
     },
     "user_tz": -345
    },
    "id": "UAsXl8mxB_ep",
    "outputId": "249e8fd6-ac7e-4c33-cf99-d6a5a4b15dcd"
   },
   "outputs": [],
   "source": [
    "bleu_score(candidate_corpus, references_corpus, max_n = 4, weights=[0.25, 0.25, 0.25, 0.25])"
   ]
  },
  {
   "cell_type": "code",
   "execution_count": null,
   "metadata": {
    "colab": {
     "base_uri": "https://localhost:8080/"
    },
    "executionInfo": {
     "elapsed": 44441,
     "status": "ok",
     "timestamp": 1655872886867,
     "user": {
      "displayName": "joshana shakya",
      "userId": "03824919138905749941"
     },
     "user_tz": -345
    },
    "id": "itUQbqzJO5UV",
    "outputId": "9bcf9048-acde-4314-973f-dd4b3a099e0b"
   },
   "outputs": [],
   "source": [
    "!git clone https://github.com/microsoft/CodeXGLUE.git"
   ]
  },
  {
   "cell_type": "code",
   "execution_count": null,
   "metadata": {
    "colab": {
     "base_uri": "https://localhost:8080/"
    },
    "executionInfo": {
     "elapsed": 12023,
     "status": "ok",
     "timestamp": 1655872898881,
     "user": {
      "displayName": "joshana shakya",
      "userId": "03824919138905749941"
     },
     "user_tz": -345
    },
    "id": "SDK6ZPO5Pvzj",
    "outputId": "a1af90d1-5164-43d8-92f7-44f4e611244d"
   },
   "outputs": [],
   "source": [
    "!pip install tree_sitter==0.2.1"
   ]
  },
  {
   "cell_type": "code",
   "execution_count": null,
   "metadata": {
    "colab": {
     "base_uri": "https://localhost:8080/"
    },
    "executionInfo": {
     "elapsed": 3,
     "status": "ok",
     "timestamp": 1655878339460,
     "user": {
      "displayName": "joshana shakya",
      "userId": "03824919138905749941"
     },
     "user_tz": -345
    },
    "id": "yFXQBRQtY4rK",
    "outputId": "1a48aeec-407e-4d87-acb5-5e56323b8d37"
   },
   "outputs": [],
   "source": [
    " %cd CodeXGLUE/Code-Code/code-to-code-trans/evaluator/CodeBLEU\n",
    "# %ls\n",
    "# %cd ../../../../.."
   ]
  },
  {
   "cell_type": "code",
   "execution_count": null,
   "metadata": {
    "executionInfo": {
     "elapsed": 3,
     "status": "ok",
     "timestamp": 1655878339461,
     "user": {
      "displayName": "joshana shakya",
      "userId": "03824919138905749941"
     },
     "user_tz": -345
    },
    "id": "t7lRQBUzC26i"
   },
   "outputs": [],
   "source": [
    "# CodeBLEU calculation\n",
    "references = []\n",
    "predictions = []\n",
    "\n",
    "for d in data:\n",
    "  references.append(d[\"ref\"] + \"\\n\")\n",
    "  predictions.append(d[\"hyp\"] + \"\\n\")\n",
    "\n",
    "# ref_file = open(f\"{OUTPUT_FILEPATH}/references_{SRC_LANGUAGE}2{TGT_LANGUAGE}.txt\", \"w\")\n",
    "ref_file = open(f\"references.txt\", \"w\")\n",
    "ref_file.writelines(references)\n",
    "ref_file.close()\n",
    "\n",
    "# pred_file = open(f\"{OUTPUT_FILEPATH}/predictions_{SRC_LANGUAGE}2{TGT_LANGUAGE}.txt\", \"w\")\n",
    "pred_file = open(f\"predictions.txt\", \"w\")\n",
    "pred_file.writelines(predictions) \n",
    "pred_file.close()"
   ]
  },
  {
   "cell_type": "code",
   "execution_count": null,
   "metadata": {
    "colab": {
     "base_uri": "https://localhost:8080/"
    },
    "executionInfo": {
     "elapsed": 2136,
     "status": "ok",
     "timestamp": 1655878342118,
     "user": {
      "displayName": "joshana shakya",
      "userId": "03824919138905749941"
     },
     "user_tz": -345
    },
    "id": "fF8FBVGoYu9D",
    "outputId": "14ffb5a5-9a71-4982-b60f-cb405007fb3c"
   },
   "outputs": [],
   "source": [
    "# references_ja2pn.txt \n",
    "# predictions_ja2pn.txt\n",
    "!python calc_code_bleu.py --refs references.txt --hyp predictions.txt --lang java"
   ]
  }
 ],
 "metadata": {
  "colab": {
   "authorship_tag": "ABX9TyPKEG/doi+l6b/+/BfusXaY",
   "collapsed_sections": [],
   "name": "Evaluation.ipynb",
   "provenance": []
  },
  "kernelspec": {
   "display_name": "Python 3 (ipykernel)",
   "language": "python",
   "name": "python3"
  },
  "language_info": {
   "codemirror_mode": {
    "name": "ipython",
    "version": 3
   },
   "file_extension": ".py",
   "mimetype": "text/x-python",
   "name": "python",
   "nbconvert_exporter": "python",
   "pygments_lexer": "ipython3",
   "version": "3.9.12"
  }
 },
 "nbformat": 4,
 "nbformat_minor": 1
}
