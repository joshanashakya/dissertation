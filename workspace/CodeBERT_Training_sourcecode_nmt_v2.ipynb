{
 "cells": [
  {
   "cell_type": "code",
   "execution_count": null,
   "metadata": {
    "id": "3HHLACsF-HUr"
   },
   "outputs": [],
   "source": [
    "# from google.colab import drive\n",
    "# drive.mount(\"/content/drive\")"
   ]
  },
  {
   "cell_type": "code",
   "execution_count": null,
   "metadata": {
    "execution": {
     "iopub.execute_input": "2022-04-28T09:22:10.618046Z",
     "iopub.status.busy": "2022-04-28T09:22:10.617654Z",
     "iopub.status.idle": "2022-04-28T09:22:40.647127Z",
     "shell.execute_reply": "2022-04-28T09:22:40.645869Z",
     "shell.execute_reply.started": "2022-04-28T09:22:10.617956Z"
    },
    "id": "RQj66Lp0VyMc"
   },
   "outputs": [],
   "source": [
    "%%capture\n",
    "!pip install datasets\n",
    "!pip install transformers"
   ]
  },
  {
   "cell_type": "code",
   "execution_count": null,
   "metadata": {
    "execution": {
     "iopub.execute_input": "2022-04-28T09:22:40.649664Z",
     "iopub.status.busy": "2022-04-28T09:22:40.649204Z",
     "iopub.status.idle": "2022-04-28T09:22:47.471464Z",
     "shell.execute_reply": "2022-04-28T09:22:47.470683Z",
     "shell.execute_reply.started": "2022-04-28T09:22:40.649622Z"
    },
    "id": "v8tNYYlf4FOi"
   },
   "outputs": [],
   "source": [
    "from transformers import RobertaTokenizer, EncoderDecoderModel, DataCollatorForSeq2Seq, Seq2SeqTrainingArguments, Seq2SeqTrainer\n",
    "import torch\n",
    "import numpy as np\n",
    "from datasets import Dataset\n",
    "from torch.utils.data import DataLoader\n",
    "import csv"
   ]
  },
  {
   "cell_type": "code",
   "execution_count": null,
   "metadata": {
    "execution": {
     "iopub.execute_input": "2022-04-28T09:22:47.473215Z",
     "iopub.status.busy": "2022-04-28T09:22:47.472919Z",
     "iopub.status.idle": "2022-04-28T09:22:47.512993Z",
     "shell.execute_reply": "2022-04-28T09:22:47.512356Z",
     "shell.execute_reply.started": "2022-04-28T09:22:47.473179Z"
    },
    "id": "swCpZ_O_-PJ2"
   },
   "outputs": [],
   "source": [
    "# load datasets\n",
    "\n",
    "##### local device path #####\n",
    "# PREPROCESSED_FILEPATH = \"code_translation/preprocessed_files/codebert\"\n",
    "# OUTPUT_FILEPATH = \"code_translation/codebert_output_files\"\n",
    "\n",
    "##### drive path #####\n",
    "# PREPROCESSED_FILEPATH = \"drive/MyDrive/dissertation_workplace/code_translation/preprocessed_files/codebert\"\n",
    "# OUTPUT_FILEPATH = \"drive/MyDrive/dissertation_workplace/code_translation/codebert_output_files\"\n",
    "\n",
    "##### kaggle path #####\n",
    "PREPROCESSED_FILEPATH = \"../input/code-translation-v3/preprocessed_files/codebert\"\n",
    "OUTPUT_FILEPATH = \"./\"\n",
    "\n",
    "SRC_LANGUAGE = \"pn\"\n",
    "TGT_LANGUAGE = \"ja\"\n",
    "NUM_EPOCHS = 50\n",
    "LEARNING_RATE = 5e-5\n",
    "\n",
    "REPOSITORY_ID = f\"mini_codebert_sourcecode_nmt_{SRC_LANGUAGE}2{TGT_LANGUAGE}_{NUM_EPOCHS}E_{LEARNING_RATE}LR\"\n",
    "\n",
    "# Training data\n",
    "with open(f\"{PREPROCESSED_FILEPATH}/train.ja\", \"r\") as f:\n",
    "  java_codes = f.readlines()\n",
    "\n",
    "with open(f\"{PREPROCESSED_FILEPATH}/train.pn\", \"r\") as f:\n",
    "  python_codes = f.readlines()"
   ]
  },
  {
   "cell_type": "code",
   "execution_count": null,
   "metadata": {
    "execution": {
     "iopub.execute_input": "2022-04-28T09:22:47.515209Z",
     "iopub.status.busy": "2022-04-28T09:22:47.5148Z",
     "iopub.status.idle": "2022-04-28T09:22:47.527925Z",
     "shell.execute_reply": "2022-04-28T09:22:47.527Z",
     "shell.execute_reply.started": "2022-04-28T09:22:47.515174Z"
    },
    "id": "Zk7oJF4WBSpw"
   },
   "outputs": [],
   "source": [
    "translation = []\n",
    "for (java_code, python_code) in zip(java_codes, python_codes):\n",
    "  translation.append({\"ja\": java_code.rstrip(), \"pn\": python_code.rstrip()})\n",
    "\n",
    "datasets = Dataset.from_dict({\"translation\": translation})"
   ]
  },
  {
   "cell_type": "code",
   "execution_count": null,
   "metadata": {
    "execution": {
     "iopub.execute_input": "2022-04-28T09:23:00.877973Z",
     "iopub.status.busy": "2022-04-28T09:23:00.877675Z",
     "iopub.status.idle": "2022-04-28T09:23:02.850707Z",
     "shell.execute_reply": "2022-04-28T09:23:02.849997Z",
     "shell.execute_reply.started": "2022-04-28T09:23:00.877926Z"
    },
    "id": "y9u78fX1Ybhs"
   },
   "outputs": [],
   "source": [
    "%%capture\n",
    "tokenizer = RobertaTokenizer.from_pretrained(\"microsoft/codebert-base\")"
   ]
  },
  {
   "cell_type": "code",
   "execution_count": null,
   "metadata": {
    "execution": {
     "iopub.execute_input": "2022-04-28T09:23:04.1819Z",
     "iopub.status.busy": "2022-04-28T09:23:04.181649Z",
     "iopub.status.idle": "2022-04-28T09:23:04.189865Z",
     "shell.execute_reply": "2022-04-28T09:23:04.18878Z",
     "shell.execute_reply.started": "2022-04-28T09:23:04.181872Z"
    },
    "id": "Jzcq22TBajSZ"
   },
   "outputs": [],
   "source": [
    "max_input_length = 450\n",
    "max_target_length = 450\n",
    "\n",
    "def preprocess_function(batch):\n",
    "    inputs = [ex[SRC_LANGUAGE] for ex in batch[\"translation\"]]\n",
    "    targets = [ex[TGT_LANGUAGE] for ex in batch[\"translation\"]]\n",
    "    model_inputs = tokenizer(inputs, max_length=max_input_length, truncation=True)\n",
    "\n",
    "    # Set up the tokenizer for targets\n",
    "    with tokenizer.as_target_tokenizer():\n",
    "        labels = tokenizer(targets, max_length=max_target_length, truncation=True)\n",
    "\n",
    "    model_inputs[\"labels\"] = labels[\"input_ids\"]\n",
    "    return model_inputs"
   ]
  },
  {
   "cell_type": "code",
   "execution_count": null,
   "metadata": {
    "colab": {
     "base_uri": "https://localhost:8080/",
     "height": 49,
     "referenced_widgets": [
      "d49623beefbe496a8003dc5811f6fd97",
      "64433035f4934632878d84f7bc364913",
      "4e91247872a04f6c9ba73c4b15fdbf7f",
      "1c5e8cfaba11460e8a8ff8d8dbbadc15",
      "42013ce0777e450a8ec0b64fe9114e8a",
      "08d940e4bc794af1b159a15c3273a902",
      "6152d1c39cba4d31857a1f9473604cb4",
      "ee17b051114c42e9b5bef32d79612175",
      "4a12cf63bc5c45a58aacbfda5e178f94",
      "f4f597e7d8164a4c95a21450c713f7ba",
      "79ac5e0df386489ab2eee31b9ccaf127",
      "ebec13fc4998422a9bc57963b3492f75"
     ]
    },
    "id": "nbiq_fLHn0Hu",
    "outputId": "8ea2bbb6-591d-4979-92b8-d509236187f9"
   },
   "outputs": [],
   "source": [
    "tokenized_datasets = datasets.map(preprocess_function, batched = True, remove_columns = datasets.column_names)"
   ]
  },
  {
   "cell_type": "code",
   "execution_count": null,
   "metadata": {
    "colab": {
     "base_uri": "https://localhost:8080/",
     "height": 121,
     "referenced_widgets": [
      "d4d75a7aca9d47b78ae9dcffa1998073",
      "1aabce3c262c41c8aa4fdc4d3db791e5",
      "1993dcd01bb3497fa229063c60515b8c",
      "555ce034ff1f4ac281650fe3ed279592",
      "8a8c1a7975a8456aaf9a330a71f569e2",
      "47a3b835befe404f9d807a2f450db6ab",
      "8f2012b1eea14211af7aaf60c9eb4f27",
      "0ccde6ecd80a421ba5e68170de047176",
      "dc54a14c26ef47159357f4f67e4346f0",
      "caed289947d448cbae0cc65d7ee9acd7",
      "489f70e92d374f29be8c64b3bedf85f5",
      "059f6bf77c704a0cb9b579c3fd230fcf"
     ]
    },
    "execution": {
     "iopub.execute_input": "2022-04-28T09:23:22.119656Z",
     "iopub.status.busy": "2022-04-28T09:23:22.119386Z",
     "iopub.status.idle": "2022-04-28T09:23:38.971083Z",
     "shell.execute_reply": "2022-04-28T09:23:38.970354Z",
     "shell.execute_reply.started": "2022-04-28T09:23:22.119626Z"
    },
    "id": "c9RjwJ56tBqG",
    "outputId": "b39b26d7-f17f-47bb-a2db-8ff522a8ac69",
    "scrolled": true
   },
   "outputs": [],
   "source": [
    "# set encoder decoder tying to True\n",
    "codebert_shared = EncoderDecoderModel.from_encoder_decoder_pretrained(\"microsoft/codebert-base\", \"microsoft/codebert-base\", tie_encoder_decoder = True)"
   ]
  },
  {
   "cell_type": "code",
   "execution_count": null,
   "metadata": {
    "execution": {
     "iopub.execute_input": "2022-04-28T09:23:56.758854Z",
     "iopub.status.busy": "2022-04-28T09:23:56.758592Z",
     "iopub.status.idle": "2022-04-28T09:23:56.765048Z",
     "shell.execute_reply": "2022-04-28T09:23:56.764021Z",
     "shell.execute_reply.started": "2022-04-28T09:23:56.758824Z"
    },
    "id": "eZT7mZ9Ttejv"
   },
   "outputs": [],
   "source": [
    "# set special tokens\n",
    "codebert_shared.config.decoder_start_token_id = tokenizer.bos_token_id                                             \n",
    "codebert_shared.config.eos_token_id = tokenizer.eos_token_id\n",
    "codebert_shared.config.pad_token_id = tokenizer.pad_token_id\n",
    "                           \n",
    "codebert_shared.config.max_length = max_target_length # The maximum length of the sequence to be generated.\n",
    "codebert_shared.config.no_repeat_ngram_size = 3 #  If set to int > 0, all ngrams of that size can only occur once.\n",
    "codebert_shared.config.vocab_size = codebert_shared.config.encoder.vocab_size\n",
    "\n",
    "BATCH_SIZE = 4"
   ]
  },
  {
   "cell_type": "code",
   "execution_count": null,
   "metadata": {
    "id": "b4GTG03dt1N-"
   },
   "outputs": [],
   "source": [
    "data_collator = DataCollatorForSeq2Seq(tokenizer, model = codebert_shared)"
   ]
  },
  {
   "cell_type": "code",
   "execution_count": null,
   "metadata": {
    "id": "Hdn43OkOt1N_",
    "outputId": "73965bbc-9484-40c8-c63e-8e3db534c308"
   },
   "outputs": [],
   "source": [
    "# example to test\n",
    "example = data_collator([tokenized_datasets[i] for i in range(1, 3)])\n",
    "print(example.keys())\n",
    "print(example[\"labels\"])\n",
    "print(example[\"decoder_input_ids\"])"
   ]
  },
  {
   "cell_type": "code",
   "execution_count": null,
   "metadata": {
    "execution": {
     "iopub.execute_input": "2022-04-28T09:24:33.05934Z",
     "iopub.status.busy": "2022-04-28T09:24:33.058859Z",
     "iopub.status.idle": "2022-04-28T09:24:33.145407Z",
     "shell.execute_reply": "2022-04-28T09:24:33.144677Z",
     "shell.execute_reply.started": "2022-04-28T09:24:33.0593Z"
    },
    "id": "GWqTUP2Siof0"
   },
   "outputs": [],
   "source": [
    "args = Seq2SeqTrainingArguments(\n",
    "    f\"model\",\n",
    "    evaluation_strategy = \"no\",\n",
    "    do_train=True,\n",
    "    save_strategy = \"epoch\",\n",
    "    learning_rate = LEARNING_RATE,\n",
    "    per_device_train_batch_size = BATCH_SIZE,\n",
    "    save_total_limit = 3,\n",
    "    num_train_epochs = NUM_EPOCHS,\n",
    "    predict_with_generate=True,\n",
    "    fp16 = True,\n",
    "    logging_strategy = \"epoch\"\n",
    ")"
   ]
  },
  {
   "cell_type": "code",
   "execution_count": null,
   "metadata": {
    "execution": {
     "iopub.execute_input": "2022-04-28T09:24:34.580434Z",
     "iopub.status.busy": "2022-04-28T09:24:34.579976Z",
     "iopub.status.idle": "2022-04-28T09:24:39.689505Z",
     "shell.execute_reply": "2022-04-28T09:24:39.688662Z",
     "shell.execute_reply.started": "2022-04-28T09:24:34.580397Z"
    },
    "id": "eubQkcA-iyGX"
   },
   "outputs": [],
   "source": [
    "trainer = Seq2SeqTrainer(\n",
    "    mini_codebert_shared,\n",
    "    args,\n",
    "    train_dataset = tokenized_datasets,\n",
    "    data_collator = data_collator,\n",
    "    tokenizer = tokenizer\n",
    ")"
   ]
  },
  {
   "cell_type": "code",
   "execution_count": null,
   "metadata": {
    "execution": {
     "iopub.execute_input": "2022-04-28T09:24:41.241333Z",
     "iopub.status.busy": "2022-04-28T09:24:41.240597Z",
     "iopub.status.idle": "2022-04-28T14:14:32.380105Z",
     "shell.execute_reply": "2022-04-28T14:14:32.379324Z",
     "shell.execute_reply.started": "2022-04-28T09:24:41.24129Z"
    },
    "id": "13T61QzOjnJo"
   },
   "outputs": [],
   "source": [
    "from timeit import default_timer as timer\n",
    "start_training_time = timer()\n",
    "trainer.train()\n",
    "end_training_time = timer()"
   ]
  },
  {
   "cell_type": "code",
   "execution_count": null,
   "metadata": {
    "execution": {
     "iopub.execute_input": "2022-04-28T14:14:32.382703Z",
     "iopub.status.busy": "2022-04-28T14:14:32.381726Z",
     "iopub.status.idle": "2022-04-28T14:14:33.875167Z",
     "shell.execute_reply": "2022-04-28T14:14:33.874131Z",
     "shell.execute_reply.started": "2022-04-28T14:14:32.382658Z"
    },
    "id": "Xze0keCSzUcW"
   },
   "outputs": [],
   "source": [
    "# trainer.save_model(\"./model_test3\")\n",
    "trainer.save_model(\"model\")"
   ]
  },
  {
   "cell_type": "code",
   "execution_count": null,
   "metadata": {
    "id": "n3Mkcg_OQle5"
   },
   "outputs": [],
   "source": [
    "time_taken_to_train = end_training_time - start_training_time\n",
    "mins = time_taken_to_train/60 \n",
    "if mins < 60:\n",
    "    train_time = f\"Training time: {mins} mins\"\n",
    "    print(f\"Training time taken: {mins} mins\")\n",
    "else:\n",
    "    hrs = int(mins/60)\n",
    "    mins = mins - hrs * 60\n",
    "    train_time = f\"Training time taken: {hrs} hrs {mins} mins\"\n",
    "    print(f\"Training time taken: {hrs} hrs {mins} mins\")"
   ]
  },
  {
   "cell_type": "code",
   "execution_count": null,
   "metadata": {
    "id": "ITq_CCDyt7Ic"
   },
   "outputs": [],
   "source": [
    "# write loss to csv file\n",
    "LOSS_FILE = \"loss_data.csv\"\n",
    "log_history = trainer.state.log_history\n",
    "loss_data = []\n",
    "\n",
    "idx = 0\n",
    "total = len(log_history) - 1\n",
    "\n",
    "for idx in range(total):\n",
    "    data = log_history[idx]\n",
    "    loss_data.append({\n",
    "            \"epoch\": data[\"epoch\"],\n",
    "            \"loss\": data[\"loss\"],\n",
    "            \"learning_rate\": data[\"learning_rate\"],\n",
    "            \"step\": data[\"step\"]\n",
    "        })\n",
    "       \n",
    "\n",
    "field_names = [\"epoch\", \"loss\", \"learning_rate\", \"step\"]\n",
    "with open(f\"./{LOSS_FILE}\", \"w\") as outfile:\n",
    "  writer = csv.DictWriter(outfile, fieldnames = field_names)\n",
    "  writer.writeheader()\n",
    "  writer.writerows(loss_data)"
   ]
  },
  {
   "cell_type": "code",
   "execution_count": null,
   "metadata": {
    "id": "YgLydofPoOtV"
   },
   "outputs": [],
   "source": [
    "# save model to HuggingFace hub"
   ]
  },
  {
   "cell_type": "code",
   "execution_count": null,
   "metadata": {
    "execution": {
     "iopub.execute_input": "2022-04-28T14:42:30.363793Z",
     "iopub.status.busy": "2022-04-28T14:42:30.36323Z",
     "iopub.status.idle": "2022-04-28T14:42:30.455134Z",
     "shell.execute_reply": "2022-04-28T14:42:30.454324Z",
     "shell.execute_reply.started": "2022-04-28T14:42:30.363748Z"
    },
    "id": "7anjvViSDka1"
   },
   "outputs": [],
   "source": [
    "from huggingface_hub import notebook_login\n",
    "notebook_login()"
   ]
  },
  {
   "cell_type": "code",
   "execution_count": null,
   "metadata": {
    "execution": {
     "iopub.status.busy": "2022-04-28T14:14:36.196815Z",
     "iopub.status.idle": "2022-04-28T14:14:36.19743Z",
     "shell.execute_reply": "2022-04-28T14:14:36.19723Z",
     "shell.execute_reply.started": "2022-04-28T14:14:36.197204Z"
    },
    "id": "3z1aMm-OlXUH"
   },
   "outputs": [],
   "source": [
    "!git config --global credential.helper store"
   ]
  },
  {
   "cell_type": "code",
   "execution_count": null,
   "metadata": {
    "execution": {
     "iopub.execute_input": "2022-04-28T14:56:58.628912Z",
     "iopub.status.busy": "2022-04-28T14:56:58.628652Z",
     "iopub.status.idle": "2022-04-28T14:56:59.633596Z",
     "shell.execute_reply": "2022-04-28T14:56:59.632861Z",
     "shell.execute_reply.started": "2022-04-28T14:56:58.628883Z"
    },
    "id": "K2E_v9WalkPJ"
   },
   "outputs": [],
   "source": [
    "from huggingface_hub import HfApi\n",
    "api = HfApi()\n",
    "api.create_repo(repo_id = REPOSITORY_ID, private = False, repo_type = \"model\")"
   ]
  },
  {
   "cell_type": "code",
   "execution_count": null,
   "metadata": {
    "execution": {
     "iopub.execute_input": "2022-04-28T15:03:25.78291Z",
     "iopub.status.busy": "2022-04-28T15:03:25.782631Z",
     "iopub.status.idle": "2022-04-28T15:03:39.614966Z",
     "shell.execute_reply": "2022-04-28T15:03:39.614203Z",
     "shell.execute_reply.started": "2022-04-28T15:03:25.782878Z"
    },
    "id": "KRVi2ArnlvOA"
   },
   "outputs": [],
   "source": [
    "import os\n",
    "\n",
    "arr = os.listdir(\"model\")\n",
    "for a in arr:\n",
    "    if a.startswith(\"checkpoint\") or a.startswith(\"run\"):\n",
    "        continue\n",
    "    url = api.upload_file(\n",
    "        path_or_fileobj = f\"model/{a}\", \n",
    "        path_in_repo = f\"{a}\", \n",
    "        repo_id = f\"joshanashakya/{REPOSITORY_ID}\",\n",
    "    )"
   ]
  },
  {
   "cell_type": "code",
   "execution_count": null,
   "metadata": {
    "id": "bZn7y2sp156A"
   },
   "outputs": [],
   "source": [
    "url = api.upload_file(\n",
    "        path_or_fileobj = f\"./{LOSS_FILE}\", \n",
    "        path_in_repo = f\"{LOSS_FILE}\", \n",
    "        repo_id = f\"joshanashakya/{REPOSITORY_ID}\",\n",
    "    )"
   ]
  },
  {
   "cell_type": "code",
   "execution_count": null,
   "metadata": {
    "id": "iCpRooWwQz79"
   },
   "outputs": [],
   "source": [
    "url = api.upload_file(\n",
    "        path_or_fileobj = f\"./{TIME_FILE}\", \n",
    "        path_in_repo = f\"{TIME_FILE}\", \n",
    "        repo_id = f\"joshanashakya/{REPOSITORY_ID}\",\n",
    "    )"
   ]
  }
 ],
 "metadata": {
  "accelerator": "GPU",
  "colab": {
   "collapsed_sections": [],
   "name": "CodeBERT_Training_sourcecode_nmt_v2.ipynb",
   "provenance": []
  },
  "kernelspec": {
   "display_name": "Python 3 (ipykernel)",
   "language": "python",
   "name": "python3"
  },
  "language_info": {
   "codemirror_mode": {
    "name": "ipython",
    "version": 3
   },
   "file_extension": ".py",
   "mimetype": "text/x-python",
   "name": "python",
   "nbconvert_exporter": "python",
   "pygments_lexer": "ipython3",
   "version": "3.9.12"
  },
  "widgets": {
   "application/vnd.jupyter.widget-state+json": {
    "08d940e4bc794af1b159a15c3273a902": {
     "model_module": "@jupyter-widgets/base",
     "model_module_version": "1.2.0",
     "model_name": "LayoutModel",
     "state": {
      "_model_module": "@jupyter-widgets/base",
      "_model_module_version": "1.2.0",
      "_model_name": "LayoutModel",
      "_view_count": null,
      "_view_module": "@jupyter-widgets/base",
      "_view_module_version": "1.2.0",
      "_view_name": "LayoutView",
      "align_content": null,
      "align_items": null,
      "align_self": null,
      "border": null,
      "bottom": null,
      "display": null,
      "flex": null,
      "flex_flow": null,
      "grid_area": null,
      "grid_auto_columns": null,
      "grid_auto_flow": null,
      "grid_auto_rows": null,
      "grid_column": null,
      "grid_gap": null,
      "grid_row": null,
      "grid_template_areas": null,
      "grid_template_columns": null,
      "grid_template_rows": null,
      "height": null,
      "justify_content": null,
      "justify_items": null,
      "left": null,
      "margin": null,
      "max_height": null,
      "max_width": null,
      "min_height": null,
      "min_width": null,
      "object_fit": null,
      "object_position": null,
      "order": null,
      "overflow": null,
      "overflow_x": null,
      "overflow_y": null,
      "padding": null,
      "right": null,
      "top": null,
      "visibility": null,
      "width": null
     }
    },
    "0ccde6ecd80a421ba5e68170de047176": {
     "model_module": "@jupyter-widgets/base",
     "model_module_version": "1.2.0",
     "model_name": "LayoutModel",
     "state": {
      "_model_module": "@jupyter-widgets/base",
      "_model_module_version": "1.2.0",
      "_model_name": "LayoutModel",
      "_view_count": null,
      "_view_module": "@jupyter-widgets/base",
      "_view_module_version": "1.2.0",
      "_view_name": "LayoutView",
      "align_content": null,
      "align_items": null,
      "align_self": null,
      "border": null,
      "bottom": null,
      "display": null,
      "flex": null,
      "flex_flow": null,
      "grid_area": null,
      "grid_auto_columns": null,
      "grid_auto_flow": null,
      "grid_auto_rows": null,
      "grid_column": null,
      "grid_gap": null,
      "grid_row": null,
      "grid_template_areas": null,
      "grid_template_columns": null,
      "grid_template_rows": null,
      "height": null,
      "justify_content": null,
      "justify_items": null,
      "left": null,
      "margin": null,
      "max_height": null,
      "max_width": null,
      "min_height": null,
      "min_width": null,
      "object_fit": null,
      "object_position": null,
      "order": null,
      "overflow": null,
      "overflow_x": null,
      "overflow_y": null,
      "padding": null,
      "right": null,
      "top": null,
      "visibility": null,
      "width": null
     }
    },
    "1993dcd01bb3497fa229063c60515b8c": {
     "model_module": "@jupyter-widgets/controls",
     "model_module_version": "1.5.0",
     "model_name": "FloatProgressModel",
     "state": {
      "_dom_classes": [],
      "_model_module": "@jupyter-widgets/controls",
      "_model_module_version": "1.5.0",
      "_model_name": "FloatProgressModel",
      "_view_count": null,
      "_view_module": "@jupyter-widgets/controls",
      "_view_module_version": "1.5.0",
      "_view_name": "ProgressView",
      "bar_style": "success",
      "description": "",
      "description_tooltip": null,
      "layout": "IPY_MODEL_0ccde6ecd80a421ba5e68170de047176",
      "max": 498627950,
      "min": 0,
      "orientation": "horizontal",
      "style": "IPY_MODEL_dc54a14c26ef47159357f4f67e4346f0",
      "value": 498627950
     }
    },
    "1aabce3c262c41c8aa4fdc4d3db791e5": {
     "model_module": "@jupyter-widgets/controls",
     "model_module_version": "1.5.0",
     "model_name": "HTMLModel",
     "state": {
      "_dom_classes": [],
      "_model_module": "@jupyter-widgets/controls",
      "_model_module_version": "1.5.0",
      "_model_name": "HTMLModel",
      "_view_count": null,
      "_view_module": "@jupyter-widgets/controls",
      "_view_module_version": "1.5.0",
      "_view_name": "HTMLView",
      "description": "",
      "description_tooltip": null,
      "layout": "IPY_MODEL_47a3b835befe404f9d807a2f450db6ab",
      "placeholder": "​",
      "style": "IPY_MODEL_8f2012b1eea14211af7aaf60c9eb4f27",
      "value": "Downloading: 100%"
     }
    },
    "1c5e8cfaba11460e8a8ff8d8dbbadc15": {
     "model_module": "@jupyter-widgets/controls",
     "model_module_version": "1.5.0",
     "model_name": "HTMLModel",
     "state": {
      "_dom_classes": [],
      "_model_module": "@jupyter-widgets/controls",
      "_model_module_version": "1.5.0",
      "_model_name": "HTMLModel",
      "_view_count": null,
      "_view_module": "@jupyter-widgets/controls",
      "_view_module_version": "1.5.0",
      "_view_name": "HTMLView",
      "description": "",
      "description_tooltip": null,
      "layout": "IPY_MODEL_f4f597e7d8164a4c95a21450c713f7ba",
      "placeholder": "​",
      "style": "IPY_MODEL_79ac5e0df386489ab2eee31b9ccaf127",
      "value": " 549/549 [00:06&lt;00:00, 99.54ba/s]"
     }
    },
    "42013ce0777e450a8ec0b64fe9114e8a": {
     "model_module": "@jupyter-widgets/base",
     "model_module_version": "1.2.0",
     "model_name": "LayoutModel",
     "state": {
      "_model_module": "@jupyter-widgets/base",
      "_model_module_version": "1.2.0",
      "_model_name": "LayoutModel",
      "_view_count": null,
      "_view_module": "@jupyter-widgets/base",
      "_view_module_version": "1.2.0",
      "_view_name": "LayoutView",
      "align_content": null,
      "align_items": null,
      "align_self": null,
      "border": null,
      "bottom": null,
      "display": null,
      "flex": null,
      "flex_flow": null,
      "grid_area": null,
      "grid_auto_columns": null,
      "grid_auto_flow": null,
      "grid_auto_rows": null,
      "grid_column": null,
      "grid_gap": null,
      "grid_row": null,
      "grid_template_areas": null,
      "grid_template_columns": null,
      "grid_template_rows": null,
      "height": null,
      "justify_content": null,
      "justify_items": null,
      "left": null,
      "margin": null,
      "max_height": null,
      "max_width": null,
      "min_height": null,
      "min_width": null,
      "object_fit": null,
      "object_position": null,
      "order": null,
      "overflow": null,
      "overflow_x": null,
      "overflow_y": null,
      "padding": null,
      "right": null,
      "top": null,
      "visibility": null,
      "width": null
     }
    },
    "47a3b835befe404f9d807a2f450db6ab": {
     "model_module": "@jupyter-widgets/base",
     "model_module_version": "1.2.0",
     "model_name": "LayoutModel",
     "state": {
      "_model_module": "@jupyter-widgets/base",
      "_model_module_version": "1.2.0",
      "_model_name": "LayoutModel",
      "_view_count": null,
      "_view_module": "@jupyter-widgets/base",
      "_view_module_version": "1.2.0",
      "_view_name": "LayoutView",
      "align_content": null,
      "align_items": null,
      "align_self": null,
      "border": null,
      "bottom": null,
      "display": null,
      "flex": null,
      "flex_flow": null,
      "grid_area": null,
      "grid_auto_columns": null,
      "grid_auto_flow": null,
      "grid_auto_rows": null,
      "grid_column": null,
      "grid_gap": null,
      "grid_row": null,
      "grid_template_areas": null,
      "grid_template_columns": null,
      "grid_template_rows": null,
      "height": null,
      "justify_content": null,
      "justify_items": null,
      "left": null,
      "margin": null,
      "max_height": null,
      "max_width": null,
      "min_height": null,
      "min_width": null,
      "object_fit": null,
      "object_position": null,
      "order": null,
      "overflow": null,
      "overflow_x": null,
      "overflow_y": null,
      "padding": null,
      "right": null,
      "top": null,
      "visibility": null,
      "width": null
     }
    },
    "489f70e92d374f29be8c64b3bedf85f5": {
     "model_module": "@jupyter-widgets/controls",
     "model_module_version": "1.5.0",
     "model_name": "DescriptionStyleModel",
     "state": {
      "_model_module": "@jupyter-widgets/controls",
      "_model_module_version": "1.5.0",
      "_model_name": "DescriptionStyleModel",
      "_view_count": null,
      "_view_module": "@jupyter-widgets/base",
      "_view_module_version": "1.2.0",
      "_view_name": "StyleView",
      "description_width": ""
     }
    },
    "4a12cf63bc5c45a58aacbfda5e178f94": {
     "model_module": "@jupyter-widgets/controls",
     "model_module_version": "1.5.0",
     "model_name": "ProgressStyleModel",
     "state": {
      "_model_module": "@jupyter-widgets/controls",
      "_model_module_version": "1.5.0",
      "_model_name": "ProgressStyleModel",
      "_view_count": null,
      "_view_module": "@jupyter-widgets/base",
      "_view_module_version": "1.2.0",
      "_view_name": "StyleView",
      "bar_color": null,
      "description_width": ""
     }
    },
    "4e91247872a04f6c9ba73c4b15fdbf7f": {
     "model_module": "@jupyter-widgets/controls",
     "model_module_version": "1.5.0",
     "model_name": "FloatProgressModel",
     "state": {
      "_dom_classes": [],
      "_model_module": "@jupyter-widgets/controls",
      "_model_module_version": "1.5.0",
      "_model_name": "FloatProgressModel",
      "_view_count": null,
      "_view_module": "@jupyter-widgets/controls",
      "_view_module_version": "1.5.0",
      "_view_name": "ProgressView",
      "bar_style": "success",
      "description": "",
      "description_tooltip": null,
      "layout": "IPY_MODEL_ee17b051114c42e9b5bef32d79612175",
      "max": 549,
      "min": 0,
      "orientation": "horizontal",
      "style": "IPY_MODEL_4a12cf63bc5c45a58aacbfda5e178f94",
      "value": 549
     }
    },
    "555ce034ff1f4ac281650fe3ed279592": {
     "model_module": "@jupyter-widgets/controls",
     "model_module_version": "1.5.0",
     "model_name": "HTMLModel",
     "state": {
      "_dom_classes": [],
      "_model_module": "@jupyter-widgets/controls",
      "_model_module_version": "1.5.0",
      "_model_name": "HTMLModel",
      "_view_count": null,
      "_view_module": "@jupyter-widgets/controls",
      "_view_module_version": "1.5.0",
      "_view_name": "HTMLView",
      "description": "",
      "description_tooltip": null,
      "layout": "IPY_MODEL_caed289947d448cbae0cc65d7ee9acd7",
      "placeholder": "​",
      "style": "IPY_MODEL_489f70e92d374f29be8c64b3bedf85f5",
      "value": " 476M/476M [00:08&lt;00:00, 61.2MB/s]"
     }
    },
    "6152d1c39cba4d31857a1f9473604cb4": {
     "model_module": "@jupyter-widgets/controls",
     "model_module_version": "1.5.0",
     "model_name": "DescriptionStyleModel",
     "state": {
      "_model_module": "@jupyter-widgets/controls",
      "_model_module_version": "1.5.0",
      "_model_name": "DescriptionStyleModel",
      "_view_count": null,
      "_view_module": "@jupyter-widgets/base",
      "_view_module_version": "1.2.0",
      "_view_name": "StyleView",
      "description_width": ""
     }
    },
    "64433035f4934632878d84f7bc364913": {
     "model_module": "@jupyter-widgets/controls",
     "model_module_version": "1.5.0",
     "model_name": "HTMLModel",
     "state": {
      "_dom_classes": [],
      "_model_module": "@jupyter-widgets/controls",
      "_model_module_version": "1.5.0",
      "_model_name": "HTMLModel",
      "_view_count": null,
      "_view_module": "@jupyter-widgets/controls",
      "_view_module_version": "1.5.0",
      "_view_name": "HTMLView",
      "description": "",
      "description_tooltip": null,
      "layout": "IPY_MODEL_08d940e4bc794af1b159a15c3273a902",
      "placeholder": "​",
      "style": "IPY_MODEL_6152d1c39cba4d31857a1f9473604cb4",
      "value": "100%"
     }
    },
    "79ac5e0df386489ab2eee31b9ccaf127": {
     "model_module": "@jupyter-widgets/controls",
     "model_module_version": "1.5.0",
     "model_name": "DescriptionStyleModel",
     "state": {
      "_model_module": "@jupyter-widgets/controls",
      "_model_module_version": "1.5.0",
      "_model_name": "DescriptionStyleModel",
      "_view_count": null,
      "_view_module": "@jupyter-widgets/base",
      "_view_module_version": "1.2.0",
      "_view_name": "StyleView",
      "description_width": ""
     }
    },
    "8a8c1a7975a8456aaf9a330a71f569e2": {
     "model_module": "@jupyter-widgets/base",
     "model_module_version": "1.2.0",
     "model_name": "LayoutModel",
     "state": {
      "_model_module": "@jupyter-widgets/base",
      "_model_module_version": "1.2.0",
      "_model_name": "LayoutModel",
      "_view_count": null,
      "_view_module": "@jupyter-widgets/base",
      "_view_module_version": "1.2.0",
      "_view_name": "LayoutView",
      "align_content": null,
      "align_items": null,
      "align_self": null,
      "border": null,
      "bottom": null,
      "display": null,
      "flex": null,
      "flex_flow": null,
      "grid_area": null,
      "grid_auto_columns": null,
      "grid_auto_flow": null,
      "grid_auto_rows": null,
      "grid_column": null,
      "grid_gap": null,
      "grid_row": null,
      "grid_template_areas": null,
      "grid_template_columns": null,
      "grid_template_rows": null,
      "height": null,
      "justify_content": null,
      "justify_items": null,
      "left": null,
      "margin": null,
      "max_height": null,
      "max_width": null,
      "min_height": null,
      "min_width": null,
      "object_fit": null,
      "object_position": null,
      "order": null,
      "overflow": null,
      "overflow_x": null,
      "overflow_y": null,
      "padding": null,
      "right": null,
      "top": null,
      "visibility": null,
      "width": null
     }
    },
    "8f2012b1eea14211af7aaf60c9eb4f27": {
     "model_module": "@jupyter-widgets/controls",
     "model_module_version": "1.5.0",
     "model_name": "DescriptionStyleModel",
     "state": {
      "_model_module": "@jupyter-widgets/controls",
      "_model_module_version": "1.5.0",
      "_model_name": "DescriptionStyleModel",
      "_view_count": null,
      "_view_module": "@jupyter-widgets/base",
      "_view_module_version": "1.2.0",
      "_view_name": "StyleView",
      "description_width": ""
     }
    },
    "caed289947d448cbae0cc65d7ee9acd7": {
     "model_module": "@jupyter-widgets/base",
     "model_module_version": "1.2.0",
     "model_name": "LayoutModel",
     "state": {
      "_model_module": "@jupyter-widgets/base",
      "_model_module_version": "1.2.0",
      "_model_name": "LayoutModel",
      "_view_count": null,
      "_view_module": "@jupyter-widgets/base",
      "_view_module_version": "1.2.0",
      "_view_name": "LayoutView",
      "align_content": null,
      "align_items": null,
      "align_self": null,
      "border": null,
      "bottom": null,
      "display": null,
      "flex": null,
      "flex_flow": null,
      "grid_area": null,
      "grid_auto_columns": null,
      "grid_auto_flow": null,
      "grid_auto_rows": null,
      "grid_column": null,
      "grid_gap": null,
      "grid_row": null,
      "grid_template_areas": null,
      "grid_template_columns": null,
      "grid_template_rows": null,
      "height": null,
      "justify_content": null,
      "justify_items": null,
      "left": null,
      "margin": null,
      "max_height": null,
      "max_width": null,
      "min_height": null,
      "min_width": null,
      "object_fit": null,
      "object_position": null,
      "order": null,
      "overflow": null,
      "overflow_x": null,
      "overflow_y": null,
      "padding": null,
      "right": null,
      "top": null,
      "visibility": null,
      "width": null
     }
    },
    "d49623beefbe496a8003dc5811f6fd97": {
     "model_module": "@jupyter-widgets/controls",
     "model_module_version": "1.5.0",
     "model_name": "HBoxModel",
     "state": {
      "_dom_classes": [],
      "_model_module": "@jupyter-widgets/controls",
      "_model_module_version": "1.5.0",
      "_model_name": "HBoxModel",
      "_view_count": null,
      "_view_module": "@jupyter-widgets/controls",
      "_view_module_version": "1.5.0",
      "_view_name": "HBoxView",
      "box_style": "",
      "children": [
       "IPY_MODEL_64433035f4934632878d84f7bc364913",
       "IPY_MODEL_4e91247872a04f6c9ba73c4b15fdbf7f",
       "IPY_MODEL_1c5e8cfaba11460e8a8ff8d8dbbadc15"
      ],
      "layout": "IPY_MODEL_42013ce0777e450a8ec0b64fe9114e8a"
     }
    },
    "d4d75a7aca9d47b78ae9dcffa1998073": {
     "model_module": "@jupyter-widgets/controls",
     "model_module_version": "1.5.0",
     "model_name": "HBoxModel",
     "state": {
      "_dom_classes": [],
      "_model_module": "@jupyter-widgets/controls",
      "_model_module_version": "1.5.0",
      "_model_name": "HBoxModel",
      "_view_count": null,
      "_view_module": "@jupyter-widgets/controls",
      "_view_module_version": "1.5.0",
      "_view_name": "HBoxView",
      "box_style": "",
      "children": [
       "IPY_MODEL_1aabce3c262c41c8aa4fdc4d3db791e5",
       "IPY_MODEL_1993dcd01bb3497fa229063c60515b8c",
       "IPY_MODEL_555ce034ff1f4ac281650fe3ed279592"
      ],
      "layout": "IPY_MODEL_8a8c1a7975a8456aaf9a330a71f569e2"
     }
    },
    "dc54a14c26ef47159357f4f67e4346f0": {
     "model_module": "@jupyter-widgets/controls",
     "model_module_version": "1.5.0",
     "model_name": "ProgressStyleModel",
     "state": {
      "_model_module": "@jupyter-widgets/controls",
      "_model_module_version": "1.5.0",
      "_model_name": "ProgressStyleModel",
      "_view_count": null,
      "_view_module": "@jupyter-widgets/base",
      "_view_module_version": "1.2.0",
      "_view_name": "StyleView",
      "bar_color": null,
      "description_width": ""
     }
    },
    "ee17b051114c42e9b5bef32d79612175": {
     "model_module": "@jupyter-widgets/base",
     "model_module_version": "1.2.0",
     "model_name": "LayoutModel",
     "state": {
      "_model_module": "@jupyter-widgets/base",
      "_model_module_version": "1.2.0",
      "_model_name": "LayoutModel",
      "_view_count": null,
      "_view_module": "@jupyter-widgets/base",
      "_view_module_version": "1.2.0",
      "_view_name": "LayoutView",
      "align_content": null,
      "align_items": null,
      "align_self": null,
      "border": null,
      "bottom": null,
      "display": null,
      "flex": null,
      "flex_flow": null,
      "grid_area": null,
      "grid_auto_columns": null,
      "grid_auto_flow": null,
      "grid_auto_rows": null,
      "grid_column": null,
      "grid_gap": null,
      "grid_row": null,
      "grid_template_areas": null,
      "grid_template_columns": null,
      "grid_template_rows": null,
      "height": null,
      "justify_content": null,
      "justify_items": null,
      "left": null,
      "margin": null,
      "max_height": null,
      "max_width": null,
      "min_height": null,
      "min_width": null,
      "object_fit": null,
      "object_position": null,
      "order": null,
      "overflow": null,
      "overflow_x": null,
      "overflow_y": null,
      "padding": null,
      "right": null,
      "top": null,
      "visibility": null,
      "width": null
     }
    },
    "f4f597e7d8164a4c95a21450c713f7ba": {
     "model_module": "@jupyter-widgets/base",
     "model_module_version": "1.2.0",
     "model_name": "LayoutModel",
     "state": {
      "_model_module": "@jupyter-widgets/base",
      "_model_module_version": "1.2.0",
      "_model_name": "LayoutModel",
      "_view_count": null,
      "_view_module": "@jupyter-widgets/base",
      "_view_module_version": "1.2.0",
      "_view_name": "LayoutView",
      "align_content": null,
      "align_items": null,
      "align_self": null,
      "border": null,
      "bottom": null,
      "display": null,
      "flex": null,
      "flex_flow": null,
      "grid_area": null,
      "grid_auto_columns": null,
      "grid_auto_flow": null,
      "grid_auto_rows": null,
      "grid_column": null,
      "grid_gap": null,
      "grid_row": null,
      "grid_template_areas": null,
      "grid_template_columns": null,
      "grid_template_rows": null,
      "height": null,
      "justify_content": null,
      "justify_items": null,
      "left": null,
      "margin": null,
      "max_height": null,
      "max_width": null,
      "min_height": null,
      "min_width": null,
      "object_fit": null,
      "object_position": null,
      "order": null,
      "overflow": null,
      "overflow_x": null,
      "overflow_y": null,
      "padding": null,
      "right": null,
      "top": null,
      "visibility": null,
      "width": null
     }
    }
   }
  }
 },
 "nbformat": 4,
 "nbformat_minor": 1
}
