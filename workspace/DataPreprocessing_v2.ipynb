{
 "cells": [
  {
   "cell_type": "code",
   "execution_count": null,
   "metadata": {
    "colab": {
     "base_uri": "https://localhost:8080/"
    },
    "executionInfo": {
     "elapsed": 3535,
     "status": "ok",
     "timestamp": 1654600106999,
     "user": {
      "displayName": "joshana shakya",
      "userId": "03824919138905749941"
     },
     "user_tz": -345
    },
    "id": "KER2pmywVpW7",
    "outputId": "fb601e9a-5033-4976-a2eb-c040652df1bf"
   },
   "outputs": [],
   "source": [
    "from google.colab import drive\n",
    "drive.mount(\"/content/drive\")"
   ]
  },
  {
   "cell_type": "code",
   "execution_count": null,
   "metadata": {
    "executionInfo": {
     "elapsed": 10,
     "status": "ok",
     "timestamp": 1654600107000,
     "user": {
      "displayName": "joshana shakya",
      "userId": "03824919138905749941"
     },
     "user_tz": -345
    },
    "id": "8uqIo3EFV_Hk"
   },
   "outputs": [],
   "source": [
    "import json"
   ]
  },
  {
   "cell_type": "code",
   "execution_count": null,
   "metadata": {
    "executionInfo": {
     "elapsed": 9,
     "status": "ok",
     "timestamp": 1654600107000,
     "user": {
      "displayName": "joshana shakya",
      "userId": "03824919138905749941"
     },
     "user_tz": -345
    },
    "id": "q8mlqUdQmVLx"
   },
   "outputs": [],
   "source": [
    "# SYS = \"transformer\"\n",
    "SYS = \"codebert\""
   ]
  },
  {
   "cell_type": "code",
   "execution_count": null,
   "metadata": {
    "executionInfo": {
     "elapsed": 8,
     "status": "ok",
     "timestamp": 1654600107001,
     "user": {
      "displayName": "joshana shakya",
      "userId": "03824919138905749941"
     },
     "user_tz": -345
    },
    "id": "3Q5Bm3P5Wxa5"
   },
   "outputs": [],
   "source": [
    "def read_json(filepath):\n",
    "  json_file = open(filepath, 'r')\n",
    "  json_data = json.load(json_file)\n",
    "\n",
    "  java_codes, python_codes = [], []\n",
    "  \n",
    "  for item in json_data['codes']:\n",
    "    java_codes.append(item['java_code'] + \"\\n\") \n",
    "    python_codes.append(item['python_code'] + \"\\n\")\n",
    "\n",
    "  json_file.close()\n",
    "  return java_codes, python_codes"
   ]
  },
  {
   "cell_type": "code",
   "execution_count": null,
   "metadata": {
    "executionInfo": {
     "elapsed": 8,
     "status": "ok",
     "timestamp": 1654600107001,
     "user": {
      "displayName": "joshana shakya",
      "userId": "03824919138905749941"
     },
     "user_tz": -345
    },
    "id": "qCJwvkELX-U2"
   },
   "outputs": [],
   "source": [
    "def write(filepath, data):\n",
    "  f = open(filepath, \"w\")\n",
    "  f.writelines(data)\n",
    "  f.close()"
   ]
  },
  {
   "cell_type": "code",
   "execution_count": null,
   "metadata": {
    "executionInfo": {
     "elapsed": 588,
     "status": "ok",
     "timestamp": 1654600107582,
     "user": {
      "displayName": "joshana shakya",
      "userId": "03824919138905749941"
     },
     "user_tz": -345
    },
    "id": "y6FTiQ73VvV9"
   },
   "outputs": [],
   "source": [
    "# load datasets\n",
    "if SYS == \"transformer\":\n",
    "  JSON_FILEPATH = \"drive/MyDrive/dissertation_workplace/code_translation/dataset/code450.json\"\n",
    "  OUTPUT_FILEPATH = \"drive/MyDrive/dissertation_workplace/code_translation/preprocessed_files\"\n",
    "else:\n",
    "  JSON_FILEPATH = \"drive/MyDrive/dissertation_workplace/code_translation/dataset/codebert/codebert_code450.json\"\n",
    "  OUTPUT_FILEPATH = \"drive/MyDrive/dissertation_workplace/code_translation/preprocessed_files/codebert\"\n",
    "\n",
    "TRAIN_SIZE = 2506     # 80:20 [3133 (2506:627)]\n",
    "java_codes, python_codes = read_json(JSON_FILEPATH)\n",
    "\n",
    "# write to files\n",
    "# Training data\n",
    "write(f\"{OUTPUT_FILEPATH}/train.ja\", java_codes[:TRAIN_SIZE])\n",
    "write(f\"{OUTPUT_FILEPATH}/train.pn\", python_codes[:TRAIN_SIZE])\n",
    "\n",
    "# Test data\n",
    "write(f\"{OUTPUT_FILEPATH}/test.ja\", java_codes[TRAIN_SIZE:])\n",
    "write(f\"{OUTPUT_FILEPATH}/test.pn\", python_codes[TRAIN_SIZE:])"
   ]
  },
  {
   "cell_type": "code",
   "execution_count": null,
   "metadata": {
    "colab": {
     "base_uri": "https://localhost:8080/"
    },
    "executionInfo": {
     "elapsed": 11,
     "status": "ok",
     "timestamp": 1654600107583,
     "user": {
      "displayName": "joshana shakya",
      "userId": "03824919138905749941"
     },
     "user_tz": -345
    },
    "id": "V0IMnxpiMh8J",
    "outputId": "40b9f702-5730-4ffd-bb4b-ed63e4597651"
   },
   "outputs": [],
   "source": [
    "len(java_codes)"
   ]
  },
  {
   "cell_type": "code",
   "execution_count": null,
   "metadata": {
    "colab": {
     "base_uri": "https://localhost:8080/",
     "height": 149
    },
    "executionInfo": {
     "elapsed": 12,
     "status": "error",
     "timestamp": 1654600107586,
     "user": {
      "displayName": "joshana shakya",
      "userId": "03824919138905749941"
     },
     "user_tz": -345
    },
    "id": "HK1bQzz7nfjd",
    "outputId": "40689ce2-1f9a-40a7-bc2a-57ab47932fcc"
   },
   "outputs": [],
   "source": [
    "if SYS == \"codebert\":\n",
    "  raise SystemExit(\"Stop right there! No further processing is required for CodeBERT.\")"
   ]
  },
  {
   "cell_type": "code",
   "execution_count": null,
   "metadata": {
    "executionInfo": {
     "elapsed": 10,
     "status": "aborted",
     "timestamp": 1654600107584,
     "user": {
      "displayName": "joshana shakya",
      "userId": "03824919138905749941"
     },
     "user_tz": -345
    },
    "id": "ImF5xOuKZQSN"
   },
   "outputs": [],
   "source": [
    "# install fastBPE\n",
    "!git clone https://github.com/glample/fastBPE.git\n",
    "%cd fastBPE\n",
    "!g++ -std=c++11 -pthread -O3 fastBPE/main.cc -IfastBPE -o fast\n",
    "%cd .."
   ]
  },
  {
   "cell_type": "code",
   "execution_count": null,
   "metadata": {
    "executionInfo": {
     "elapsed": 10,
     "status": "aborted",
     "timestamp": 1654600107584,
     "user": {
      "displayName": "joshana shakya",
      "userId": "03824919138905749941"
     },
     "user_tz": -345
    },
    "id": "PAgXxPcXZzT-"
   },
   "outputs": [],
   "source": [
    "BPE_FILEPATH = f\"{OUTPUT_FILEPATH}/BPE\"\n",
    "MAX_COUNT = 10000\n",
    "\n",
    "# learn bpe codes\n",
    "!./fastBPE/fast learnbpe $MAX_COUNT $OUTPUT_FILEPATH/train.ja $OUTPUT_FILEPATH/train.pn > $BPE_FILEPATH/codes\n",
    "\n",
    "# apply bpe \n",
    "!./fastBPE/fast applybpe $BPE_FILEPATH/train.ja.$MAX_COUNT $OUTPUT_FILEPATH/train.ja $BPE_FILEPATH/codes\n",
    "!./fastBPE/fast applybpe $BPE_FILEPATH/train.pn.$MAX_COUNT $OUTPUT_FILEPATH/train.pn $BPE_FILEPATH/codes\n",
    "\n",
    "# construct vocabulary\n",
    "!./fastBPE/fast getvocab $BPE_FILEPATH/train.ja.$MAX_COUNT > $BPE_FILEPATH/vocab.ja.$MAX_COUNT\n",
    "!./fastBPE/fast getvocab $BPE_FILEPATH/train.pn.$MAX_COUNT > $BPE_FILEPATH/vocab.pn.$MAX_COUNT\n",
    "\n",
    "# apply codes to test\n",
    "!./fastBPE/fast applybpe $BPE_FILEPATH/test.ja.$MAX_COUNT  $OUTPUT_FILEPATH/test.ja  $BPE_FILEPATH/codes $BPE_FILEPATH/vocab.ja.$MAX_COUNT\n",
    "!./fastBPE/fast applybpe $BPE_FILEPATH/test.pn.$MAX_COUNT  $OUTPUT_FILEPATH/test.pn  $BPE_FILEPATH/codes $BPE_FILEPATH/vocab.pn.$MAX_COUNT"
   ]
  }
 ],
 "metadata": {
  "colab": {
   "authorship_tag": "ABX9TyNv9MOZtZnRhwn+KMaA0BTo",
   "collapsed_sections": [],
   "name": "DataPreprocessing_v2.ipynb",
   "provenance": []
  },
  "kernelspec": {
   "display_name": "Python 3 (ipykernel)",
   "language": "python",
   "name": "python3"
  },
  "language_info": {
   "codemirror_mode": {
    "name": "ipython",
    "version": 3
   },
   "file_extension": ".py",
   "mimetype": "text/x-python",
   "name": "python",
   "nbconvert_exporter": "python",
   "pygments_lexer": "ipython3",
   "version": "3.9.12"
  }
 },
 "nbformat": 4,
 "nbformat_minor": 1
}
