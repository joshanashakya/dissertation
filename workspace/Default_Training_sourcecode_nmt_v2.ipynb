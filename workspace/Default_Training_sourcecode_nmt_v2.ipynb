{
 "cells": [
  {
   "cell_type": "code",
   "execution_count": null,
   "metadata": {
    "execution": {
     "iopub.execute_input": "2022-06-03T09:32:21.34219Z",
     "iopub.status.busy": "2022-06-03T09:32:21.341787Z",
     "iopub.status.idle": "2022-06-03T09:32:21.361181Z",
     "shell.execute_reply": "2022-06-03T09:32:21.360388Z",
     "shell.execute_reply.started": "2022-06-03T09:32:21.342111Z"
    },
    "id": "fHe5KmbTRCoI"
   },
   "outputs": [],
   "source": [
    "# from google.colab import drive\n",
    "# drive.mount(\"/content/drive\")"
   ]
  },
  {
   "cell_type": "code",
   "execution_count": null,
   "metadata": {
    "execution": {
     "iopub.execute_input": "2022-06-03T09:32:21.363611Z",
     "iopub.status.busy": "2022-06-03T09:32:21.362936Z",
     "iopub.status.idle": "2022-06-03T09:32:23.251488Z",
     "shell.execute_reply": "2022-06-03T09:32:23.250647Z",
     "shell.execute_reply.started": "2022-06-03T09:32:21.36357Z"
    },
    "id": "_af0d_NseSa7"
   },
   "outputs": [],
   "source": [
    "import math\n",
    "import torchtext\n",
    "import torch\n",
    "import torch.nn as nn\n",
    "from torchtext.vocab import vocab\n",
    "from torch.nn.utils.rnn import pad_sequence\n",
    "from torch.utils.data import DataLoader\n",
    "from torch import Tensor\n",
    "from torch.nn import (TransformerEncoder, TransformerDecoder,TransformerEncoderLayer, TransformerDecoderLayer)\n",
    "import io\n",
    "import time\n",
    "from collections import OrderedDict\n",
    "import csv"
   ]
  },
  {
   "cell_type": "code",
   "execution_count": null,
   "metadata": {
    "execution": {
     "iopub.execute_input": "2022-06-03T09:32:23.255284Z",
     "iopub.status.busy": "2022-06-03T09:32:23.254313Z",
     "iopub.status.idle": "2022-06-03T09:32:23.260199Z",
     "shell.execute_reply": "2022-06-03T09:32:23.259372Z",
     "shell.execute_reply.started": "2022-06-03T09:32:23.255243Z"
    },
    "id": "XwCrpAAKiPNY"
   },
   "outputs": [],
   "source": [
    "##### drive path #####\n",
    "# BPE_FILEPATH = \"drive/MyDrive/dissertation_workplace/code_translation/preprocessed_files/BPE\"\n",
    "# OUTPUT_FILEPATH = \"drive/MyDrive/dissertation_workplace/code_translation/output_files\"\n",
    "\n",
    "##### kaggle path #####\n",
    "BPE_FILEPATH = \"../input/code-translation-v4/preprocessed_files/BPE\"\n",
    "OUTPUT_FILEPATH = \"./\"\n",
    "\n",
    "SRC_LANGUAGE = \"pn\"\n",
    "TGT_LANGUAGE = \"ja\"\n",
    "MAX_COUNT = 10000\n",
    "\n",
    "# Place-holders\n",
    "token_transform = {}\n",
    "vocab_transform = {}"
   ]
  },
  {
   "cell_type": "code",
   "execution_count": null,
   "metadata": {
    "execution": {
     "iopub.execute_input": "2022-06-03T09:32:23.263393Z",
     "iopub.status.busy": "2022-06-03T09:32:23.262723Z",
     "iopub.status.idle": "2022-06-03T09:32:23.271306Z",
     "shell.execute_reply": "2022-06-03T09:32:23.270595Z",
     "shell.execute_reply.started": "2022-06-03T09:32:23.263301Z"
    },
    "id": "7pBBy0Lqn-d6"
   },
   "outputs": [],
   "source": [
    "def build_vocab(filename):\n",
    "  ordered_dict = OrderedDict()\n",
    "  with io.open(filename) as file:\n",
    "    for string_ in file:\n",
    "      word_feq = string_.rstrip(\"\\n\").split(\" \")\n",
    "      word = word_feq[0]\n",
    "      feq = int(word_feq[1])\n",
    "      ordered_dict[word] = feq\n",
    "  vocabulary = vocab(ordered_dict)\n",
    "  unk_token = \"<unk>\"\n",
    "  if unk_token not in vocabulary: vocabulary.insert_token(unk_token, 0)\n",
    "  vocabulary.insert_token(\"<pad>\", 1)\n",
    "  vocabulary.insert_token(\"<bos>\", 2)\n",
    "  vocabulary.insert_token(\"<eos>\", 3)\n",
    "  vocabulary.set_default_index(vocabulary[unk_token])\n",
    "  return vocabulary"
   ]
  },
  {
   "cell_type": "code",
   "execution_count": null,
   "metadata": {
    "execution": {
     "iopub.execute_input": "2022-06-03T09:32:23.27323Z",
     "iopub.status.busy": "2022-06-03T09:32:23.272636Z",
     "iopub.status.idle": "2022-06-03T09:32:23.434816Z",
     "shell.execute_reply": "2022-06-03T09:32:23.433998Z",
     "shell.execute_reply.started": "2022-06-03T09:32:23.273195Z"
    },
    "id": "r5p7YDtrik39"
   },
   "outputs": [],
   "source": [
    "for ln in [SRC_LANGUAGE, TGT_LANGUAGE]:\n",
    "  vocab_transform[ln] = build_vocab(f\"{BPE_FILEPATH}/vocab.{ln}.{MAX_COUNT}\")"
   ]
  },
  {
   "cell_type": "code",
   "execution_count": null,
   "metadata": {
    "execution": {
     "iopub.execute_input": "2022-06-03T09:32:23.436561Z",
     "iopub.status.busy": "2022-06-03T09:32:23.436177Z",
     "iopub.status.idle": "2022-06-03T09:32:23.444046Z",
     "shell.execute_reply": "2022-06-03T09:32:23.443319Z",
     "shell.execute_reply.started": "2022-06-03T09:32:23.436526Z"
    },
    "id": "lHJrTw5NsJ8o"
   },
   "outputs": [],
   "source": [
    "def data_process(filepaths):\n",
    "  raw_src_iter = iter(io.open(filepaths[0]))\n",
    "  raw_tgt_iter = iter(io.open(filepaths[1]))\n",
    "  data = []\n",
    "  for (raw_src, raw_tgt) in zip(raw_src_iter, raw_tgt_iter):\n",
    "    src_tensor_ = torch.tensor([vocab_transform[SRC_LANGUAGE][token] for token in raw_src.rstrip(\"\\n\").split(\" \")], dtype=torch.long)\n",
    "    tgt_tensor_ = torch.tensor([vocab_transform[TGT_LANGUAGE][token] for token in raw_tgt.rstrip(\"\\n\").split(\" \")], dtype=torch.long)\n",
    "    data.append((src_tensor_, tgt_tensor_))\n",
    "  return data"
   ]
  },
  {
   "cell_type": "code",
   "execution_count": null,
   "metadata": {
    "execution": {
     "iopub.execute_input": "2022-06-03T09:32:23.445901Z",
     "iopub.status.busy": "2022-06-03T09:32:23.445334Z",
     "iopub.status.idle": "2022-06-03T09:32:23.766936Z",
     "shell.execute_reply": "2022-06-03T09:32:23.766157Z",
     "shell.execute_reply.started": "2022-06-03T09:32:23.445867Z"
    },
    "id": "Bvv5i7LIvnUJ"
   },
   "outputs": [],
   "source": [
    "train_data = data_process([f\"{BPE_FILEPATH}/train.{SRC_LANGUAGE}.{MAX_COUNT}\", f\"{BPE_FILEPATH}/train.{TGT_LANGUAGE}.{MAX_COUNT}\"])"
   ]
  },
  {
   "cell_type": "code",
   "execution_count": null,
   "metadata": {
    "execution": {
     "iopub.execute_input": "2022-06-03T09:32:23.76838Z",
     "iopub.status.busy": "2022-06-03T09:32:23.768044Z",
     "iopub.status.idle": "2022-06-03T09:32:23.775901Z",
     "shell.execute_reply": "2022-06-03T09:32:23.775141Z",
     "shell.execute_reply.started": "2022-06-03T09:32:23.768347Z"
    },
    "id": "haqwrgsRcmtD"
   },
   "outputs": [],
   "source": [
    "BATCH_SIZE = 4\n",
    "PAD_IDX = vocab_transform[SRC_LANGUAGE][\"<pad>\"]\n",
    "BOS_IDX = vocab_transform[SRC_LANGUAGE][\"<bos>\"]\n",
    "EOS_IDX = vocab_transform[SRC_LANGUAGE][\"<eos>\"]"
   ]
  },
  {
   "cell_type": "code",
   "execution_count": null,
   "metadata": {
    "execution": {
     "iopub.execute_input": "2022-06-03T09:32:23.77717Z",
     "iopub.status.busy": "2022-06-03T09:32:23.7769Z",
     "iopub.status.idle": "2022-06-03T09:32:23.786531Z",
     "shell.execute_reply": "2022-06-03T09:32:23.785748Z",
     "shell.execute_reply.started": "2022-06-03T09:32:23.777147Z"
    },
    "id": "3JOGe34wytwY"
   },
   "outputs": [],
   "source": [
    "# DataLoader\n",
    "def generate_batch(data_batch):\n",
    "  src_batch, tgt_batch = [], []\n",
    "  for (src_item, tgt_item) in data_batch:\n",
    "    src_batch.append(torch.cat([torch.tensor([BOS_IDX]), src_item, torch.tensor([EOS_IDX])], dim=0))\n",
    "    tgt_batch.append(torch.cat([torch.tensor([BOS_IDX]), tgt_item, torch.tensor([EOS_IDX])], dim=0))\n",
    "  src_batch = pad_sequence(src_batch, padding_value=PAD_IDX)\n",
    "  tgt_batch = pad_sequence(tgt_batch, padding_value=PAD_IDX)\n",
    "  return src_batch, tgt_batch"
   ]
  },
  {
   "cell_type": "code",
   "execution_count": null,
   "metadata": {
    "execution": {
     "iopub.execute_input": "2022-06-03T09:32:23.79Z",
     "iopub.status.busy": "2022-06-03T09:32:23.789729Z",
     "iopub.status.idle": "2022-06-03T09:32:23.795942Z",
     "shell.execute_reply": "2022-06-03T09:32:23.79522Z",
     "shell.execute_reply.started": "2022-06-03T09:32:23.789977Z"
    },
    "id": "kj0-P9qvzfhz"
   },
   "outputs": [],
   "source": [
    "train_iter = DataLoader(train_data, batch_size=BATCH_SIZE, shuffle=True, collate_fn=generate_batch)"
   ]
  },
  {
   "cell_type": "code",
   "execution_count": null,
   "metadata": {
    "execution": {
     "iopub.execute_input": "2022-06-03T09:32:23.797879Z",
     "iopub.status.busy": "2022-06-03T09:32:23.797288Z",
     "iopub.status.idle": "2022-06-03T09:32:23.811334Z",
     "shell.execute_reply": "2022-06-03T09:32:23.810613Z",
     "shell.execute_reply.started": "2022-06-03T09:32:23.797844Z"
    },
    "id": "nzChtHAxIBFS"
   },
   "outputs": [],
   "source": [
    "# transformer\n",
    "class Seq2SeqTransformer(nn.Module):\n",
    "    def __init__(self, \n",
    "                 num_encoder_layers: int, \n",
    "                 num_decoder_layers: int,\n",
    "                 emb_size: int, \n",
    "                 nhead:int,\n",
    "                 src_vocab_size: int, \n",
    "                 tgt_vocab_size: int,\n",
    "                 dim_feedforward:int, \n",
    "                 activation:str,\n",
    "                 layer_norm_eps:float,\n",
    "                 dropout:float = 0.1):\n",
    "        super(Seq2SeqTransformer, self).__init__()\n",
    "        encoder_layer = TransformerEncoderLayer(d_model = emb_size, \n",
    "                                                nhead = nhead,\n",
    "                                                dim_feedforward = dim_feedforward, \n",
    "                                                activation = activation, \n",
    "                                                layer_norm_eps = layer_norm_eps)\n",
    "        self.transformer_encoder = TransformerEncoder(encoder_layer, num_layers = num_encoder_layers)\n",
    "\n",
    "        decoder_layer = TransformerDecoderLayer(d_model = emb_size, \n",
    "                                                nhead = nhead, \n",
    "                                                dim_feedforward = dim_feedforward,\n",
    "                                                activation = activation, \n",
    "                                                layer_norm_eps = layer_norm_eps)\n",
    "        self.transformer_decoder = TransformerDecoder(decoder_layer, num_layers=num_decoder_layers)\n",
    "\n",
    "        self.generator = nn.Linear(emb_size, tgt_vocab_size)\n",
    "        self.src_tok_emb = TokenEmbedding(src_vocab_size, emb_size)\n",
    "        self.tgt_tok_emb = TokenEmbedding(tgt_vocab_size, emb_size)\n",
    "        self.positional_encoding = PositionalEncoding(emb_size, dropout = dropout)\n",
    "\n",
    "    def forward(self, src: Tensor, trg: Tensor, src_mask: Tensor,\n",
    "                tgt_mask: Tensor, src_padding_mask: Tensor,\n",
    "                tgt_padding_mask: Tensor, memory_key_padding_mask: Tensor):\n",
    "      \n",
    "        src_emb = self.positional_encoding(self.src_tok_emb(src))\n",
    "        tgt_emb = self.positional_encoding(self.tgt_tok_emb(trg))\n",
    "        memory = self.transformer_encoder(src_emb, src_mask, src_padding_mask)\n",
    "        outs = self.transformer_decoder(tgt_emb, memory, tgt_mask, None, tgt_padding_mask, memory_key_padding_mask)\n",
    "\n",
    "        return self.generator(outs)\n",
    "\n",
    "    def encode(self, src: Tensor, src_mask: Tensor):\n",
    "        return self.transformer_encoder(self.positional_encoding(self.src_tok_emb(src)), src_mask)\n",
    "\n",
    "    def decode(self, tgt: Tensor, memory: Tensor, tgt_mask: Tensor):\n",
    "        return self.transformer_decoder(self.positional_encoding(self.tgt_tok_emb(tgt)), memory, tgt_mask)"
   ]
  },
  {
   "cell_type": "code",
   "execution_count": null,
   "metadata": {
    "execution": {
     "iopub.execute_input": "2022-06-03T09:32:23.814073Z",
     "iopub.status.busy": "2022-06-03T09:32:23.813784Z",
     "iopub.status.idle": "2022-06-03T09:32:23.826068Z",
     "shell.execute_reply": "2022-06-03T09:32:23.825291Z",
     "shell.execute_reply.started": "2022-06-03T09:32:23.81405Z"
    },
    "id": "C98KIou7ITkd"
   },
   "outputs": [],
   "source": [
    "class PositionalEncoding(nn.Module):\n",
    "    def __init__(self, \n",
    "                 emb_size: int, \n",
    "                 dropout, \n",
    "                 maxlen: int = 450):\n",
    "        super(PositionalEncoding, self).__init__()\n",
    "        den = torch.exp(- torch.arange(0, emb_size, 2) * math.log(10000) / emb_size)\n",
    "        pos = torch.arange(0, maxlen).reshape(maxlen, 1)\n",
    "        pos_embedding = torch.zeros((maxlen, emb_size))\n",
    "        pos_embedding[:, 0::2] = torch.sin(pos * den)\n",
    "        pos_embedding[:, 1::2] = torch.cos(pos * den)\n",
    "        pos_embedding = pos_embedding.unsqueeze(-2)\n",
    "\n",
    "        self.dropout = nn.Dropout(dropout)\n",
    "        self.register_buffer(\"pos_embedding\", pos_embedding)\n",
    "\n",
    "    def forward(self, token_embedding: Tensor):\n",
    "        return self.dropout(token_embedding +\n",
    "                            self.pos_embedding[:token_embedding.size(0),:])\n",
    "\n",
    "class TokenEmbedding(nn.Module):\n",
    "    def __init__(self, vocab_size: int, emb_size):\n",
    "        super(TokenEmbedding, self).__init__()\n",
    "        self.embedding = nn.Embedding(vocab_size, emb_size)\n",
    "        self.emb_size = emb_size\n",
    "        \n",
    "    def forward(self, tokens: Tensor):\n",
    "        return self.embedding(tokens.long()) * math.sqrt(self.emb_size)"
   ]
  },
  {
   "cell_type": "code",
   "execution_count": null,
   "metadata": {
    "execution": {
     "iopub.execute_input": "2022-06-03T09:32:23.828501Z",
     "iopub.status.busy": "2022-06-03T09:32:23.827479Z",
     "iopub.status.idle": "2022-06-03T09:32:23.837955Z",
     "shell.execute_reply": "2022-06-03T09:32:23.837161Z",
     "shell.execute_reply.started": "2022-06-03T09:32:23.828407Z"
    },
    "id": "6tylu3NoIYIt"
   },
   "outputs": [],
   "source": [
    "def generate_square_subsequent_mask(sz):\n",
    "    mask = (torch.triu(torch.ones((sz, sz), device=DEVICE)) == 1).transpose(0, 1)\n",
    "    mask = mask.float().masked_fill(mask == 0, float(\"-inf\")).masked_fill(mask == 1, float(0.0))\n",
    "    return mask"
   ]
  },
  {
   "cell_type": "code",
   "execution_count": null,
   "metadata": {
    "execution": {
     "iopub.execute_input": "2022-06-03T09:32:23.839707Z",
     "iopub.status.busy": "2022-06-03T09:32:23.839444Z",
     "iopub.status.idle": "2022-06-03T09:32:23.847238Z",
     "shell.execute_reply": "2022-06-03T09:32:23.846389Z",
     "shell.execute_reply.started": "2022-06-03T09:32:23.839684Z"
    },
    "id": "oudFUkClIjEj"
   },
   "outputs": [],
   "source": [
    "def create_mask(src, tgt):\n",
    "    src_seq_len = src.shape[0]\n",
    "    tgt_seq_len = tgt.shape[0]\n",
    "\n",
    "    tgt_mask = generate_square_subsequent_mask(tgt_seq_len)\n",
    "    src_mask = torch.zeros((src_seq_len, src_seq_len), device=DEVICE).type(torch.bool)\n",
    "\n",
    "    src_padding_mask = (src == PAD_IDX).transpose(0, 1)\n",
    "    tgt_padding_mask = (tgt == PAD_IDX).transpose(0, 1)\n",
    "    return src_mask, tgt_mask, src_padding_mask, tgt_padding_mask"
   ]
  },
  {
   "cell_type": "code",
   "execution_count": null,
   "metadata": {
    "execution": {
     "iopub.execute_input": "2022-06-03T09:32:23.849033Z",
     "iopub.status.busy": "2022-06-03T09:32:23.848611Z",
     "iopub.status.idle": "2022-06-03T09:32:23.912003Z",
     "shell.execute_reply": "2022-06-03T09:32:23.911212Z",
     "shell.execute_reply.started": "2022-06-03T09:32:23.848985Z"
    },
    "id": "K7SpAN0hIlwb"
   },
   "outputs": [],
   "source": [
    "torch.manual_seed(0)\n",
    "\n",
    "SRC_VOCAB_SIZE = len(vocab_transform[SRC_LANGUAGE])\n",
    "TGT_VOCAB_SIZE = len(vocab_transform[TGT_LANGUAGE])\n",
    "EMB_SIZE = 512 # default = 512 in Pytorch\n",
    "NHEAD = 8 # default = 8 in Pytorch\n",
    "FFN_HID_DIM = 512 # default = 2048 in Pytorch\n",
    "# BATCH_SIZE = 128 # already defined above\n",
    "NUM_ENCODER_LAYERS = 3\n",
    "NUM_DECODER_LAYERS = 3\n",
    "NUM_EPOCHS = 50\n",
    "LEARNING_RATE = 5e-5 # default = 1e-3 in Pytorch\n",
    "ACTIVATION = \"relu\" # default = \"relu\" in Pytorch\n",
    "LAYER_NORM_EPS = 1e-5 # default = 1e-5 in Pytorch\n",
    "DEVICE = torch.device(\"cuda:0\" if torch.cuda.is_available() else \"cpu\")\n",
    "OUTPUT_MODEL = f\"{OUTPUT_FILEPATH}/sourcecode_nmt_{SRC_LANGUAGE}2{TGT_LANGUAGE}_{MAX_COUNT}C_{NUM_EPOCHS}E_{LEARNING_RATE}LR_{ACTIVATION}.pth\""
   ]
  },
  {
   "cell_type": "code",
   "execution_count": null,
   "metadata": {
    "execution": {
     "iopub.execute_input": "2022-06-03T09:32:23.9147Z",
     "iopub.status.busy": "2022-06-03T09:32:23.914315Z",
     "iopub.status.idle": "2022-06-03T09:32:27.604956Z",
     "shell.execute_reply": "2022-06-03T09:32:27.604157Z",
     "shell.execute_reply.started": "2022-06-03T09:32:23.914666Z"
    },
    "id": "OlLiysl8ItJs"
   },
   "outputs": [],
   "source": [
    "transformer = Seq2SeqTransformer(NUM_ENCODER_LAYERS, NUM_DECODER_LAYERS, EMB_SIZE, NHEAD, SRC_VOCAB_SIZE, TGT_VOCAB_SIZE, FFN_HID_DIM, ACTIVATION, LAYER_NORM_EPS)\n",
    "\n",
    "for p in transformer.parameters():\n",
    "    if p.dim() > 1:\n",
    "        nn.init.xavier_uniform_(p)\n",
    "\n",
    "transformer = transformer.to(DEVICE)\n",
    "loss_fn = torch.nn.CrossEntropyLoss(ignore_index=PAD_IDX)\n",
    "# default values\n",
    "optimizer = torch.optim.Adam(transformer.parameters(), lr=LEARNING_RATE, betas=(0.9, 0.999), eps=1e-8)"
   ]
  },
  {
   "cell_type": "code",
   "execution_count": null,
   "metadata": {
    "execution": {
     "iopub.execute_input": "2022-06-03T09:32:27.60968Z",
     "iopub.status.busy": "2022-06-03T09:32:27.608203Z",
     "iopub.status.idle": "2022-06-03T09:32:27.61707Z",
     "shell.execute_reply": "2022-06-03T09:32:27.616162Z",
     "shell.execute_reply.started": "2022-06-03T09:32:27.609639Z"
    },
    "id": "PPzxWNx5JEMQ"
   },
   "outputs": [],
   "source": [
    "def train_epoch(model, train_iter, optimizer):\n",
    "    model.train()\n",
    "    losses = 0\n",
    "    for idx, (src, tgt) in enumerate(train_iter):\n",
    "        src = src.to(DEVICE)\n",
    "        tgt = tgt.to(DEVICE)\n",
    "        tgt_input = tgt[:-1, :]\n",
    "        src_mask, tgt_mask, src_padding_mask, tgt_padding_mask = create_mask(src, tgt_input)\n",
    "\n",
    "        logits = model(src, tgt_input, src_mask, tgt_mask, src_padding_mask, tgt_padding_mask, src_padding_mask)\n",
    "\n",
    "        optimizer.zero_grad()\n",
    "        \n",
    "        tgt_out = tgt[1:, :]\n",
    "        loss = loss_fn(logits.reshape(-1, logits.shape[-1]), tgt_out.reshape(-1))\n",
    "        loss.backward()\n",
    "        \n",
    "        optimizer.step()\n",
    "        losses += loss.item()\n",
    "    return losses / len(train_iter)\n"
   ]
  },
  {
   "cell_type": "code",
   "execution_count": null,
   "metadata": {
    "execution": {
     "iopub.execute_input": "2022-06-03T09:33:06.964674Z",
     "iopub.status.busy": "2022-06-03T09:33:06.964128Z",
     "iopub.status.idle": "2022-06-03T09:53:08.362018Z",
     "shell.execute_reply": "2022-06-03T09:53:08.361191Z",
     "shell.execute_reply.started": "2022-06-03T09:33:06.964635Z"
    },
    "id": "QgI75Dm0Jd2H"
   },
   "outputs": [],
   "source": [
    "from timeit import default_timer as timer\n",
    "\n",
    "loss_data = []\n",
    "start_training_time = timer()\n",
    "for epoch in range(NUM_EPOCHS):\n",
    "    start_time = timer()\n",
    "    train_loss = train_epoch(transformer, train_iter, optimizer)\n",
    "    end_time = timer()\n",
    "    loss_data.append({\n",
    "        \"epoch\": epoch + 1,\n",
    "        \"train_loss\": train_loss,\n",
    "        \"epoch_time\": (end_time - start_time)\n",
    "    })\n",
    "    print((f\"Epoch: {epoch + 1}, Train loss: {train_loss:.3f} Epoch time = {(end_time - start_time):.3f}s\"))\n",
    "end_training_time = timer()"
   ]
  },
  {
   "cell_type": "code",
   "execution_count": null,
   "metadata": {
    "execution": {
     "iopub.execute_input": "2022-06-03T09:55:55.751631Z",
     "iopub.status.busy": "2022-06-03T09:55:55.751251Z",
     "iopub.status.idle": "2022-06-03T09:55:56.135274Z",
     "shell.execute_reply": "2022-06-03T09:55:56.134465Z",
     "shell.execute_reply.started": "2022-06-03T09:55:55.7516Z"
    },
    "id": "qZ4s11BpG5x9"
   },
   "outputs": [],
   "source": [
    "torch.save(transformer, OUTPUT_MODEL)"
   ]
  },
  {
   "cell_type": "code",
   "execution_count": null,
   "metadata": {
    "id": "w7AlobkE3cJu"
   },
   "outputs": [],
   "source": [
    "time_taken_to_train = end_training_time - start_training_time\n",
    "mins = time_taken_to_train/60 \n",
    "if mins < 60:\n",
    "    train_time = f\"Training time: {mins} mins\"\n",
    "    print(f\"Training time taken: {mins} mins\")\n",
    "else:\n",
    "    hrs = int(mins/60)\n",
    "    mins = mins - hrs * 60\n",
    "    train_time = f\"Training time taken: {hrs} hrs {mins} mins\"\n",
    "    print(f\"Training time taken: {hrs} hrs {mins} mins\")"
   ]
  },
  {
   "cell_type": "code",
   "execution_count": null,
   "metadata": {
    "execution": {
     "iopub.execute_input": "2022-06-03T09:55:58.749532Z",
     "iopub.status.busy": "2022-06-03T09:55:58.74916Z",
     "iopub.status.idle": "2022-06-03T09:55:58.758203Z",
     "shell.execute_reply": "2022-06-03T09:55:58.757482Z",
     "shell.execute_reply.started": "2022-06-03T09:55:58.749502Z"
    },
    "id": "uOOstZSvGups"
   },
   "outputs": [],
   "source": [
    "# write loss to csv file\n",
    "field_names = [\"epoch\", \"train_loss\", \"epoch_time\"]\n",
    "CSV_FILE = f\"{OUTPUT_MODEL[:-4]}.csv\"\n",
    "with open(CSV_FILE, \"w\") as outfile:\n",
    "  writer = csv.DictWriter(outfile, fieldnames = field_names)\n",
    "  writer.writeheader()\n",
    "  writer.writerows(loss_data)"
   ]
  },
  {
   "cell_type": "code",
   "execution_count": null,
   "metadata": {
    "id": "oojmnPbh3f7j"
   },
   "outputs": [],
   "source": [
    "# write time taken to file\n",
    "TIME_FILE = f\"{OUTPUT_MODEL[:-4]}.txt\"\n",
    "with open(TIME_FILE, \"w\") as outfile:\n",
    "    outfile.write(train_time)"
   ]
  },
  {
   "cell_type": "code",
   "execution_count": null,
   "metadata": {
    "id": "wjXeF0pebaML"
   },
   "outputs": [],
   "source": []
  }
 ],
 "metadata": {
  "colab": {
   "collapsed_sections": [],
   "name": "Default_Training_sourcecode_nmt_v2.ipynb",
   "provenance": []
  },
  "kernelspec": {
   "display_name": "Python 3 (ipykernel)",
   "language": "python",
   "name": "python3"
  },
  "language_info": {
   "codemirror_mode": {
    "name": "ipython",
    "version": 3
   },
   "file_extension": ".py",
   "mimetype": "text/x-python",
   "name": "python",
   "nbconvert_exporter": "python",
   "pygments_lexer": "ipython3",
   "version": "3.9.12"
  }
 },
 "nbformat": 4,
 "nbformat_minor": 1
}
