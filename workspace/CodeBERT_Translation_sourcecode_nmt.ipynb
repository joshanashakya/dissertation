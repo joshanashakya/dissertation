{
 "cells": [
  {
   "cell_type": "code",
   "execution_count": null,
   "metadata": {
    "colab": {
     "base_uri": "https://localhost:8080/"
    },
    "executionInfo": {
     "elapsed": 26302,
     "status": "ok",
     "timestamp": 1655877498709,
     "user": {
      "displayName": "joshana shakya",
      "userId": "03824919138905749941"
     },
     "user_tz": -345
    },
    "id": "RFIkiWiVZ510",
    "outputId": "c8e5d269-1981-4301-a15d-d740fd90783e"
   },
   "outputs": [],
   "source": [
    "from google.colab import drive\n",
    "drive.mount(\"/content/drive\")"
   ]
  },
  {
   "cell_type": "code",
   "execution_count": null,
   "metadata": {
    "executionInfo": {
     "elapsed": 28090,
     "status": "ok",
     "timestamp": 1655877526789,
     "user": {
      "displayName": "joshana shakya",
      "userId": "03824919138905749941"
     },
     "user_tz": -345
    },
    "id": "m1CEgeR8otQD"
   },
   "outputs": [],
   "source": [
    "%%capture\n",
    "!pip install datasets\n",
    "!pip install transformers\n",
    "!pip install javalang"
   ]
  },
  {
   "cell_type": "code",
   "execution_count": null,
   "metadata": {
    "executionInfo": {
     "elapsed": 4410,
     "status": "ok",
     "timestamp": 1655877531192,
     "user": {
      "displayName": "joshana shakya",
      "userId": "03824919138905749941"
     },
     "user_tz": -345
    },
    "id": "7A-gW3PkYvJY"
   },
   "outputs": [],
   "source": [
    "from transformers import RobertaTokenizer, EncoderDecoderModel\n",
    "import torch\n",
    "import numpy as np\n",
    "from datasets import Dataset\n",
    "from torch.utils.data import DataLoader\n",
    "import javalang\n",
    "import json\n",
    "import os\n",
    "import re"
   ]
  },
  {
   "cell_type": "code",
   "execution_count": null,
   "metadata": {
    "executionInfo": {
     "elapsed": 2417,
     "status": "ok",
     "timestamp": 1655877533603,
     "user": {
      "displayName": "joshana shakya",
      "userId": "03824919138905749941"
     },
     "user_tz": -345
    },
    "id": "gt8E6hIQY30V"
   },
   "outputs": [],
   "source": [
    "# load datasets\n",
    "OUTPUT_FILEPATH = \"drive/MyDrive/dissertation_workplace/code_translation/codebert_output_files\"\n",
    "PREPROCESSED_FILEPATH = \"drive/MyDrive/dissertation_workplace/code_translation/preprocessed_files/codebert\"\n",
    "\n",
    "SRC_LANGUAGE = \"pn\"\n",
    "TGT_LANGUAGE = \"ja\"\n",
    "NUM_EPOCHS = 100\n",
    "LEARNING_RATE = 2e-5\n",
    "NUM_LAYERS = 12\n",
    "BATCH_SIZE = 16\n",
    "MODEL_NAME = f\"codebert_sourcecode_nmt_{SRC_LANGUAGE}2{TGT_LANGUAGE}_{NUM_EPOCHS}E_{LEARNING_RATE}LR_{BATCH_SIZE}B_{NUM_LAYERS}E_{NUM_LAYERS}D\"\n",
    "TEST_MODEL_OUTPUT_PATH = f\"{OUTPUT_FILEPATH}/{MODEL_NAME}\"\n",
    "\n",
    "# Testing data\n",
    "with open(f\"{PREPROCESSED_FILEPATH}/test.ja\", \"r\") as f:\n",
    "  java_codes = f.readlines()\n",
    "\n",
    "with open(f\"{PREPROCESSED_FILEPATH}/test.pn\", \"r\") as f:\n",
    "  python_codes = f.readlines()"
   ]
  },
  {
   "cell_type": "code",
   "execution_count": null,
   "metadata": {
    "executionInfo": {
     "elapsed": 10,
     "status": "ok",
     "timestamp": 1655877533604,
     "user": {
      "displayName": "joshana shakya",
      "userId": "03824919138905749941"
     },
     "user_tz": -345
    },
    "id": "cSZPgFKAwYet"
   },
   "outputs": [],
   "source": [
    "if not os.path.exists(TEST_MODEL_OUTPUT_PATH):\n",
    "  os.makedirs(TEST_MODEL_OUTPUT_PATH)"
   ]
  },
  {
   "cell_type": "code",
   "execution_count": null,
   "metadata": {
    "executionInfo": {
     "elapsed": 9,
     "status": "ok",
     "timestamp": 1655877533604,
     "user": {
      "displayName": "joshana shakya",
      "userId": "03824919138905749941"
     },
     "user_tz": -345
    },
    "id": "Y4yLS-WhbuOH"
   },
   "outputs": [],
   "source": [
    "test_codes = java_codes if SRC_LANGUAGE == \"ja\" else python_codes\n",
    "reference_codes = java_codes if TGT_LANGUAGE == \"ja\" else python_codes"
   ]
  },
  {
   "cell_type": "code",
   "execution_count": null,
   "metadata": {
    "colab": {
     "base_uri": "https://localhost:8080/"
    },
    "executionInfo": {
     "elapsed": 9,
     "status": "ok",
     "timestamp": 1655877533605,
     "user": {
      "displayName": "joshana shakya",
      "userId": "03824919138905749941"
     },
     "user_tz": -345
    },
    "id": "83Rmf8Il1gcM",
    "outputId": "2c3c890b-d851-4315-fc89-c45b2932b368"
   },
   "outputs": [],
   "source": [
    "print(\"Hello world how is the world going?\")"
   ]
  },
  {
   "cell_type": "code",
   "execution_count": null,
   "metadata": {
    "colab": {
     "base_uri": "https://localhost:8080/",
     "height": 52
    },
    "executionInfo": {
     "elapsed": 72038,
     "status": "ok",
     "timestamp": 1655877605637,
     "user": {
      "displayName": "joshana shakya",
      "userId": "03824919138905749941"
     },
     "user_tz": -345
    },
    "id": "FySAFdlhY0X0",
    "outputId": "c05287d7-b217-4ad9-d67a-7ae290e733c4"
   },
   "outputs": [],
   "source": [
    "%%capture\n",
    "tokenizer = RobertaTokenizer.from_pretrained(\"microsoft/codebert-base\")\n",
    "model = EncoderDecoderModel.from_pretrained(f\"joshanashakya/{MODEL_NAME}\")\n",
    "model.to(\"cuda\")"
   ]
  },
  {
   "cell_type": "code",
   "execution_count": null,
   "metadata": {
    "executionInfo": {
     "elapsed": 697555,
     "status": "ok",
     "timestamp": 1655878303186,
     "user": {
      "displayName": "joshana shakya",
      "userId": "03824919138905749941"
     },
     "user_tz": -345
    },
    "id": "AchEtis3gtlU"
   },
   "outputs": [],
   "source": [
    "predicted_codes = []\n",
    "for test_code in test_codes:\n",
    "  inputs = tokenizer(test_code, padding=\"max_length\", truncation=True, max_length=512, return_tensors=\"pt\")\n",
    "  input_ids = inputs.input_ids.to(\"cuda\")\n",
    "  attention_mask = inputs.attention_mask.to(\"cuda\")\n",
    "\n",
    "  outputs = model.generate(input_ids, attention_mask=attention_mask)\n",
    "\n",
    "  # all special tokens including will be removed\n",
    "  output_str = tokenizer.batch_decode(outputs, skip_special_tokens=True)\n",
    "  predicted_codes.append(output_str[0])"
   ]
  },
  {
   "cell_type": "code",
   "execution_count": null,
   "metadata": {
    "colab": {
     "base_uri": "https://localhost:8080/"
    },
    "executionInfo": {
     "elapsed": 1809,
     "status": "ok",
     "timestamp": 1655878304989,
     "user": {
      "displayName": "joshana shakya",
      "userId": "03824919138905749941"
     },
     "user_tz": -345
    },
    "id": "63YZKZeWXrL8",
    "outputId": "a412c3f2-3c86-45c9-fa63-6fb75baf84d7"
   },
   "outputs": [],
   "source": [
    "s = \"System.out.println()\"\n",
    "\n",
    "inputs = tokenizer(test_code, padding=\"max_length\", truncation=True, max_length=512, return_tensors=\"pt\")\n",
    "input_ids = inputs.input_ids.to(\"cuda\")\n",
    "attention_mask = inputs.attention_mask.to(\"cuda\")\n",
    "\n",
    "outputs = model.generate(input_ids, attention_mask=attention_mask)\n",
    "\n",
    "# all special tokens including will be removed\n",
    "output_str = tokenizer.batch_decode(outputs, skip_special_tokens=True)\n",
    "print(output_str)\n"
   ]
  },
  {
   "cell_type": "code",
   "execution_count": null,
   "metadata": {
    "executionInfo": {
     "elapsed": 36,
     "status": "ok",
     "timestamp": 1655878304991,
     "user": {
      "displayName": "joshana shakya",
      "userId": "03824919138905749941"
     },
     "user_tz": -345
    },
    "id": "3YM6nvaqfJ8D"
   },
   "outputs": [],
   "source": [
    "def detokenize_java(s):\n",
    "  try:\n",
    "    tokens = javalang.tokenizer.tokenize(s)\n",
    "    return javalang.tokenizer.reformat_tokens(tokens)\n",
    "  except:\n",
    "    return s"
   ]
  },
  {
   "cell_type": "code",
   "execution_count": null,
   "metadata": {
    "executionInfo": {
     "elapsed": 36,
     "status": "ok",
     "timestamp": 1655878304992,
     "user": {
      "displayName": "joshana shakya",
      "userId": "03824919138905749941"
     },
     "user_tz": -345
    },
    "id": "gpU4GNqwkiS6"
   },
   "outputs": [],
   "source": [
    "def detokenize_python(s):\n",
    "    cleaned_lines = []\n",
    "    lines = s.split(\"NEWLINE\")\n",
    "    for line in lines:\n",
    "        line = line.strip()\n",
    "        if line.startswith(\"INDENT\"):\n",
    "            idn_count = line.count(\"INDENT\")\n",
    "            for i in range(idn_count):\n",
    "                if i == idn_count:\n",
    "                    line = line.replace(\"INDENT \", \"    \")\n",
    "                else:\n",
    "                    line = line.replace(\"INDENT\", \"    \")\n",
    "        line = line.replace(\"INDENT\", \"\")\n",
    "        line = line.replace(\"DEDENT \", \"\")\n",
    "        line = line.replace(\"DEDENT\", \"\")\n",
    "        line = line.replace(\"NL\", \"\")\n",
    "        line = line.replace(\"ENDMARKER\", \"\")\n",
    "        cleaned_lines.append(line)\n",
    "    code = \"\\n\".join(cleaned_lines)\n",
    "    code = code.replace(\". \", \".\").replace(\" .\", \".\")\n",
    "    return code"
   ]
  },
  {
   "cell_type": "code",
   "execution_count": null,
   "metadata": {
    "executionInfo": {
     "elapsed": 35,
     "status": "ok",
     "timestamp": 1655878304992,
     "user": {
      "displayName": "joshana shakya",
      "userId": "03824919138905749941"
     },
     "user_tz": -345
    },
    "id": "Y37mlioFkojs"
   },
   "outputs": [],
   "source": [
    "def detokenize(s, lang):\n",
    "  if lang == \"ja\":\n",
    "    return detokenize_java(s)\n",
    "  elif lang == \"pn\":\n",
    "    return detokenize_python(s)"
   ]
  },
  {
   "cell_type": "code",
   "execution_count": null,
   "metadata": {
    "executionInfo": {
     "elapsed": 35,
     "status": "ok",
     "timestamp": 1655878304993,
     "user": {
      "displayName": "joshana shakya",
      "userId": "03824919138905749941"
     },
     "user_tz": -345
    },
    "id": "GcUTXNfDkq-1"
   },
   "outputs": [],
   "source": [
    "def prepare_eval(s):\n",
    "    cleaned_tokens = []\n",
    "    tokens = s.split(\" \")\n",
    "    # tokens.replace(\"NEWLINE\", \"\\\\n\")\n",
    "    for token in tokens:\n",
    "      if token == \"NL\" or token == \"DEDENT\" or token == \"ENDMARKER\" or len(token) == 0 or token == \"<unk>\" or token == \"ENDMARKER\\n\":\n",
    "        continue\n",
    "      elif token.startswith(\"NEWLINE\") and len(token) > len(\"NEWLINE\"):\n",
    "        token = token.replace(\"NEWLINE\", \"\")\n",
    "      elif token == \"NEWLINE\":\n",
    "        cleaned_tokens.append(\"\\\\n\")\n",
    "      elif token.startswith(\"INDENT\"):\n",
    "        idn_count = token.count(\"INDENT\")\n",
    "        for i in range(idn_count):\n",
    "          cleaned_tokens.append(\"\\\\t\")      \n",
    "      else:\n",
    "        cleaned_tokens.append(token)\n",
    "    return \" \".join(cleaned_tokens)\n"
   ]
  },
  {
   "cell_type": "code",
   "execution_count": null,
   "metadata": {
    "executionInfo": {
     "elapsed": 34,
     "status": "ok",
     "timestamp": 1655878304993,
     "user": {
      "displayName": "joshana shakya",
      "userId": "03824919138905749941"
     },
     "user_tz": -345
    },
    "id": "NP76y8WmRvOY"
   },
   "outputs": [],
   "source": [
    "def cleanup(s):\n",
    "  l = re.compile(\"newline\", re.IGNORECASE).sub(\"NEWLINE\", s)\n",
    "  l = re.compile(\"new line\", re.IGNORECASE).sub(\"NEWLINE\", l)\n",
    "  l = re.compile(\"indent\", re.IGNORECASE).sub(\"INDENT\", l)\n",
    "  l = re.compile(\"dedent\", re.IGNORECASE).sub(\"DEDENT\", l)\n",
    "  return l"
   ]
  },
  {
   "cell_type": "code",
   "execution_count": null,
   "metadata": {
    "executionInfo": {
     "elapsed": 33,
     "status": "ok",
     "timestamp": 1655878304993,
     "user": {
      "displayName": "joshana shakya",
      "userId": "03824919138905749941"
     },
     "user_tz": -345
    },
    "id": "mRu20Pliz3sa"
   },
   "outputs": [],
   "source": [
    "# format predicted codes\n",
    "predicted_lines = []\n",
    "for code in predicted_codes:\n",
    "  predicted_lines.append(code + \"\\n\")"
   ]
  },
  {
   "cell_type": "code",
   "execution_count": null,
   "metadata": {
    "executionInfo": {
     "elapsed": 32,
     "status": "ok",
     "timestamp": 1655878304993,
     "user": {
      "displayName": "joshana shakya",
      "userId": "03824919138905749941"
     },
     "user_tz": -345
    },
    "id": "04IjhsfSkuHO"
   },
   "outputs": [],
   "source": [
    "# try on test data\n",
    "detokenized_codes = []\n",
    "eval = []\n",
    "\n",
    "length = len(reference_codes)\n",
    "idx = 0\n",
    "\n",
    "for idx in range(length):\n",
    "  predicted_code = predicted_codes[idx]\n",
    "  reference_code = reference_codes[idx]\n",
    "  cleaned_predicted_code = cleanup(predicted_code) if TGT_LANGUAGE == \"pn\" else predicted_code\n",
    "  detokenized_code = detokenize(cleaned_predicted_code, TGT_LANGUAGE)\n",
    "  detokenized_codes.append(detokenized_code + \"\\n\")\n",
    "\n",
    "  # prepare text for evaluation\n",
    "  if TGT_LANGUAGE == \"pn\":\n",
    "    ref = prepare_eval(reference_code)\n",
    "    tgt = prepare_eval(cleaned_predicted_code)\n",
    "  else:\n",
    "    ref = reference_code\n",
    "    tgt = cleaned_predicted_code\n",
    "  eval.append({\"id\": idx + 1 , \"ref\": ref, \"hyp\": tgt})\n",
    "  idx += 1"
   ]
  },
  {
   "cell_type": "code",
   "execution_count": null,
   "metadata": {
    "colab": {
     "base_uri": "https://localhost:8080/"
    },
    "executionInfo": {
     "elapsed": 28,
     "status": "ok",
     "timestamp": 1655878304995,
     "user": {
      "displayName": "joshana shakya",
      "userId": "03824919138905749941"
     },
     "user_tz": -345
    },
    "id": "Rapp7Oyymss6",
    "outputId": "84c16a1d-82c5-4678-efca-c2910ae5b7dc"
   },
   "outputs": [],
   "source": [
    "# check on test data\n",
    "print(\"Reference code:\")\n",
    "print(reference_codes[0])\n",
    "print(\"\\n\")\n",
    "\n",
    "print(\"Predicted coce:\")\n",
    "print(predicted_codes[0]) \n",
    "print(\"\\n\")"
   ]
  },
  {
   "cell_type": "code",
   "execution_count": null,
   "metadata": {
    "executionInfo": {
     "elapsed": 24,
     "status": "ok",
     "timestamp": 1655878304996,
     "user": {
      "displayName": "joshana shakya",
      "userId": "03824919138905749941"
     },
     "user_tz": -345
    },
    "id": "lq7oZeasnHQG"
   },
   "outputs": [],
   "source": [
    "# store bpe decoded translated source codes in the text file\n",
    "translate_file = open(f\"{TEST_MODEL_OUTPUT_PATH}/translates.txt\", \"w\")\n",
    "translate_file.writelines(predicted_lines)\n",
    "translate_file.close()\n",
    "\n",
    "# store translated source codes in the text file\n",
    "count = 1\n",
    "de_translate_file = open(f\"{TEST_MODEL_OUTPUT_PATH}/detokenized_translates.txt\", \"w\")\n",
    "for i in detokenized_codes:\n",
    "  de_translate_file.writelines([f\"Solution {count}\\n\", \"---\" * 30, \"\\n\"])\n",
    "  de_translate_file.writelines(i)\n",
    "  de_translate_file.writelines([\"\\n\\n\\n\"])\n",
    "  count += 1\n",
    "de_translate_file.close()\n",
    "\n",
    "# store translates in one file\n",
    "output_file = open(f\"{TEST_MODEL_OUTPUT_PATH}/output_translates.json\", \"w\")\n",
    "json.dump({\"output\": eval}, output_file)\n",
    "output_file.close()  "
   ]
  },
  {
   "cell_type": "code",
   "execution_count": null,
   "metadata": {
    "executionInfo": {
     "elapsed": 23,
     "status": "ok",
     "timestamp": 1655878304996,
     "user": {
      "displayName": "joshana shakya",
      "userId": "03824919138905749941"
     },
     "user_tz": -345
    },
    "id": "rWuv6nNhnQkS"
   },
   "outputs": [],
   "source": [
    "if TGT_LANGUAGE == \"pn\":\n",
    "  # construct minified file and store\n",
    "  !pip install pyminifier\n",
    "  of = open(f\"{TEST_MODEL_OUTPUT_PATH}/mini_translates.txt\", \"w\")\n",
    "  count = 1\n",
    "\n",
    "  for s in detokenized_codes:\n",
    "      testfile = open(\"test.py\", \"w\")\n",
    "      testfile.writelines(detokenize(s, TGT_LANGUAGE))\n",
    "      testfile.close()\n",
    "      os.popen(\"autopep8 --in-place --aggressive --aggressive test.py\")\n",
    "      os.popen(\"pyminifier test.py > mini_testfile.py\")\n",
    "      \n",
    "      mini_testfile = open(\"mini_testfile.py\", \"r\")\n",
    "      of.writelines([f\"Solution {count}\\n\", \"---\" * 30, \"\\n\"])\n",
    "      of.writelines(mini_testfile.readlines())\n",
    "      of.writelines([\"\\n\\n\\n\"])\n",
    "      count += 1\n",
    "  of.close()"
   ]
  }
 ],
 "metadata": {
  "accelerator": "GPU",
  "colab": {
   "authorship_tag": "ABX9TyOFM7TWnuqDe5ZAY36OJViT",
   "collapsed_sections": [],
   "name": "CodeBERT_Translation_sourcecode_nmt.ipynb",
   "provenance": []
  },
  "kernelspec": {
   "display_name": "Python 3 (ipykernel)",
   "language": "python",
   "name": "python3"
  },
  "language_info": {
   "codemirror_mode": {
    "name": "ipython",
    "version": 3
   },
   "file_extension": ".py",
   "mimetype": "text/x-python",
   "name": "python",
   "nbconvert_exporter": "python",
   "pygments_lexer": "ipython3",
   "version": "3.9.12"
  }
 },
 "nbformat": 4,
 "nbformat_minor": 1
}
